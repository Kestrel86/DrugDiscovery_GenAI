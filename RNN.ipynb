{
  "nbformat": 4,
  "nbformat_minor": 0,
  "metadata": {
    "colab": {
      "provenance": [],
      "machine_shape": "hm",
      "gpuType": "A100"
    },
    "kernelspec": {
      "name": "python3",
      "display_name": "Python 3"
    },
    "language_info": {
      "name": "python"
    },
    "accelerator": "GPU"
  },
  "cells": [
    {
      "cell_type": "markdown",
      "source": [
        "RNN model testing"
      ],
      "metadata": {
        "id": "rhf0zVh-psv5"
      }
    },
    {
      "cell_type": "code",
      "source": [
        "!pip install rdkit-pypi -qqq\n",
        "!git clone https://github.com/molecularsets/moses.git\n"
      ],
      "metadata": {
        "id": "rTjrUH15NieO",
        "colab": {
          "base_uri": "https://localhost:8080/"
        },
        "outputId": "8439276c-45ed-4b55-b441-8f2f516296ce"
      },
      "execution_count": 1,
      "outputs": [
        {
          "output_type": "stream",
          "name": "stdout",
          "text": [
            "\u001b[2K   \u001b[90m━━━━━━━━━━━━━━━━━━━━━━━━━━━━━━━━━━━━━━━━\u001b[0m \u001b[32m29.4/29.4 MB\u001b[0m \u001b[31m42.6 MB/s\u001b[0m eta \u001b[36m0:00:00\u001b[0m\n",
            "\u001b[?25hCloning into 'moses'...\n",
            "remote: Enumerating objects: 1957, done.\u001b[K\n",
            "remote: Counting objects: 100% (4/4), done.\u001b[K\n",
            "remote: Compressing objects: 100% (4/4), done.\u001b[K\n",
            "remote: Total 1957 (delta 0), reused 2 (delta 0), pack-reused 1953 (from 1)\u001b[K\n",
            "Receiving objects: 100% (1957/1957), 164.05 MiB | 40.32 MiB/s, done.\n",
            "Resolving deltas: 100% (1068/1068), done.\n",
            "Filtering content: 100% (68/68), 323.72 MiB | 34.47 MiB/s, done.\n"
          ]
        }
      ]
    },
    {
      "cell_type": "code",
      "source": [
        "# prompt: open train.csv\n",
        "\n",
        "import pandas as pd\n",
        "\n",
        "df = pd.read_csv('moses/data/train.csv')\n",
        "print(df.head())\n",
        "print(df.shape)"
      ],
      "metadata": {
        "id": "s5wTTBW2PqNC",
        "colab": {
          "base_uri": "https://localhost:8080/"
        },
        "outputId": "6c8e7d51-2c25-4119-85e2-f77f49902507"
      },
      "execution_count": 2,
      "outputs": [
        {
          "output_type": "stream",
          "name": "stdout",
          "text": [
            "                                   SMILES  SPLIT\n",
            "0  CCCS(=O)c1ccc2[nH]c(=NC(=O)OC)[nH]c2c1  train\n",
            "1    CC(C)(C)C(=O)C(Oc1ccc(Cl)cc1)n1ccnc1  train\n",
            "2     Cc1c(Cl)cccc1Nc1ncccc1C(=O)OCC(O)CO  train\n",
            "3        Cn1cnc2c1c(=O)n(CC(O)CO)c(=O)n2C  train\n",
            "4          CC1Oc2ccc(Cl)cc2N(CC(O)CO)C1=O  train\n",
            "(1584663, 2)\n"
          ]
        }
      ]
    },
    {
      "cell_type": "code",
      "source": [
        "import torch\n",
        "import torch.nn as nn\n",
        "import torch.optim as optim\n",
        "from torch.utils.data import Dataset, DataLoader\n",
        "import pandas as pd\n",
        "import numpy as np\n",
        "from tqdm import tqdm"
      ],
      "metadata": {
        "id": "JwVP3ljmt0wL"
      },
      "execution_count": null,
      "outputs": []
    },
    {
      "cell_type": "code",
      "source": [
        "smiles_list = df[df['SPLIT'] == 'train']['SMILES'].tolist()\n",
        "print(len(smiles_list))"
      ],
      "metadata": {
        "colab": {
          "base_uri": "https://localhost:8080/"
        },
        "id": "58gwzbS7tfh4",
        "outputId": "fa7ce3a3-c9ac-4455-b9d8-90abc7edbfe0"
      },
      "execution_count": null,
      "outputs": [
        {
          "output_type": "stream",
          "name": "stdout",
          "text": [
            "1584663\n"
          ]
        }
      ]
    },
    {
      "cell_type": "code",
      "source": [
        "all_chars = sorted(list(set(''.join(smiles_list))))\n",
        "char2idx = {ch: i + 1 for i, ch in enumerate(all_chars)}  # reserve 0 for padding\n",
        "idx2char = {i: ch for ch, i in char2idx.items()}\n",
        "vocab_size = len(char2idx) + 1\n",
        "\n",
        "# Tokenization helper\n",
        "def tokenize(smiles):\n",
        "    return [char2idx[c] for c in smiles]\n",
        "\n",
        "def detokenize(tokens):\n",
        "    return ''.join([idx2char[t] for t in tokens if t != 0])\n",
        "\n",
        "# Dataset class\n",
        "class SMILESDataset(Dataset):\n",
        "    def __init__(self, smiles_list, seq_len=100):\n",
        "        self.data = [tokenize(s) for s in smiles_list if len(s) < seq_len]\n",
        "        self.seq_len = seq_len\n",
        "\n",
        "    def __len__(self):\n",
        "        return len(self.data)\n",
        "\n",
        "    def __getitem__(self, idx):\n",
        "        seq = self.data[idx]\n",
        "        x = torch.tensor(seq[:-1], dtype=torch.long)\n",
        "        y = torch.tensor(seq[1:], dtype=torch.long)\n",
        "        pad_len = self.seq_len - 1 - len(x)\n",
        "        if pad_len > 0:\n",
        "            x = torch.cat([x, torch.zeros(pad_len, dtype=torch.long)])\n",
        "            y = torch.cat([y, torch.zeros(pad_len, dtype=torch.long)])\n",
        "        return x, y\n",
        "\n",
        "# RNN Model\n",
        "class RNNGenerator(nn.Module):\n",
        "    def __init__(self, vocab_size, embedding_dim=128, hidden_dim=256, num_layers=2):\n",
        "        super().__init__()\n",
        "        self.embedding = nn.Embedding(vocab_size, embedding_dim, padding_idx=0)\n",
        "        self.rnn = nn.LSTM(embedding_dim, hidden_dim, num_layers, batch_first=True)\n",
        "        self.fc = nn.Linear(hidden_dim, vocab_size)\n",
        "\n",
        "    def forward(self, x, hidden=None):\n",
        "        emb = self.embedding(x)\n",
        "        out, hidden = self.rnn(emb, hidden)\n",
        "        logits = self.fc(out)\n",
        "        return logits, hidden\n",
        "\n",
        "# Hyperparameters\n",
        "SEQ_LEN = 100\n",
        "BATCH_SIZE = 128\n",
        "EPOCHS = 10\n",
        "LR = 0.001\n",
        "\n",
        "dataset = SMILESDataset(smiles_list, seq_len=SEQ_LEN)\n",
        "loader = DataLoader(dataset, batch_size=BATCH_SIZE, shuffle=True)\n",
        "\n",
        "device = torch.device('cuda' if torch.cuda.is_available() else 'cpu')\n",
        "model = RNNGenerator(vocab_size).to(device)\n",
        "optimizer = optim.Adam(model.parameters(), lr=LR)\n",
        "criterion = nn.CrossEntropyLoss(ignore_index=0)\n",
        "\n",
        "# Training loop\n",
        "for epoch in range(EPOCHS):\n",
        "    model.train()\n",
        "    epoch_loss = 0\n",
        "    for x, y in tqdm(loader, desc=f\"Epoch {epoch+1}/{EPOCHS}\"):\n",
        "        x, y = x.to(device), y.to(device)\n",
        "        optimizer.zero_grad()\n",
        "        logits, _ = model(x)\n",
        "        loss = criterion(logits.view(-1, vocab_size), y.view(-1))\n",
        "        loss.backward()\n",
        "        optimizer.step()\n",
        "        epoch_loss += loss.item()\n",
        "    print(f\"Epoch {epoch+1} loss: {epoch_loss / len(loader):.4f}\")"
      ],
      "metadata": {
        "colab": {
          "base_uri": "https://localhost:8080/"
        },
        "id": "r4vpjZisttIb",
        "outputId": "920f526d-8489-48c4-aa87-a5e26a4a34a6"
      },
      "execution_count": null,
      "outputs": [
        {
          "output_type": "stream",
          "name": "stderr",
          "text": [
            "Epoch 1/10: 100%|██████████| 12381/12381 [02:47<00:00, 73.91it/s]\n"
          ]
        },
        {
          "output_type": "stream",
          "name": "stdout",
          "text": [
            "Epoch 1 loss: 0.6144\n"
          ]
        },
        {
          "output_type": "stream",
          "name": "stderr",
          "text": [
            "Epoch 2/10: 100%|██████████| 12381/12381 [02:46<00:00, 74.30it/s]\n"
          ]
        },
        {
          "output_type": "stream",
          "name": "stdout",
          "text": [
            "Epoch 2 loss: 0.5418\n"
          ]
        },
        {
          "output_type": "stream",
          "name": "stderr",
          "text": [
            "Epoch 3/10: 100%|██████████| 12381/12381 [02:46<00:00, 74.26it/s]\n"
          ]
        },
        {
          "output_type": "stream",
          "name": "stdout",
          "text": [
            "Epoch 3 loss: 0.5273\n"
          ]
        },
        {
          "output_type": "stream",
          "name": "stderr",
          "text": [
            "Epoch 4/10: 100%|██████████| 12381/12381 [02:46<00:00, 74.33it/s]\n"
          ]
        },
        {
          "output_type": "stream",
          "name": "stdout",
          "text": [
            "Epoch 4 loss: 0.5199\n"
          ]
        },
        {
          "output_type": "stream",
          "name": "stderr",
          "text": [
            "Epoch 5/10: 100%|██████████| 12381/12381 [02:46<00:00, 74.26it/s]\n"
          ]
        },
        {
          "output_type": "stream",
          "name": "stdout",
          "text": [
            "Epoch 5 loss: 0.5153\n"
          ]
        },
        {
          "output_type": "stream",
          "name": "stderr",
          "text": [
            "Epoch 6/10: 100%|██████████| 12381/12381 [02:46<00:00, 74.32it/s]\n"
          ]
        },
        {
          "output_type": "stream",
          "name": "stdout",
          "text": [
            "Epoch 6 loss: 0.5121\n"
          ]
        },
        {
          "output_type": "stream",
          "name": "stderr",
          "text": [
            "Epoch 7/10: 100%|██████████| 12381/12381 [02:46<00:00, 74.29it/s]\n"
          ]
        },
        {
          "output_type": "stream",
          "name": "stdout",
          "text": [
            "Epoch 7 loss: 0.5098\n"
          ]
        },
        {
          "output_type": "stream",
          "name": "stderr",
          "text": [
            "Epoch 8/10: 100%|██████████| 12381/12381 [02:46<00:00, 74.36it/s]\n"
          ]
        },
        {
          "output_type": "stream",
          "name": "stdout",
          "text": [
            "Epoch 8 loss: 0.5081\n"
          ]
        },
        {
          "output_type": "stream",
          "name": "stderr",
          "text": [
            "Epoch 9/10: 100%|██████████| 12381/12381 [02:46<00:00, 74.27it/s]\n"
          ]
        },
        {
          "output_type": "stream",
          "name": "stdout",
          "text": [
            "Epoch 9 loss: 0.5068\n"
          ]
        },
        {
          "output_type": "stream",
          "name": "stderr",
          "text": [
            "Epoch 10/10: 100%|██████████| 12381/12381 [02:46<00:00, 74.31it/s]"
          ]
        },
        {
          "output_type": "stream",
          "name": "stdout",
          "text": [
            "Epoch 10 loss: 0.5057\n"
          ]
        },
        {
          "output_type": "stream",
          "name": "stderr",
          "text": [
            "\n"
          ]
        }
      ]
    },
    {
      "cell_type": "code",
      "source": [
        "def sample(model, start_token='C', max_len=100, temperature=1.0):\n",
        "    model.eval()\n",
        "    input = torch.tensor([[char2idx[start_token]]], dtype=torch.long).to(device)\n",
        "    generated = [char2idx[start_token]]\n",
        "    hidden = None\n",
        "    for _ in range(max_len):\n",
        "        logits, hidden = model(input, hidden)\n",
        "        logits = logits[:, -1, :] / temperature\n",
        "        probs = torch.softmax(logits, dim=-1)\n",
        "        next_token = torch.multinomial(probs, num_samples=1).item()\n",
        "        if next_token == 0:\n",
        "            break\n",
        "        generated.append(next_token)\n",
        "        input = torch.tensor([[next_token]], dtype=torch.long).to(device)\n",
        "    return detokenize(generated)\n",
        "\n",
        "# Example generation\n",
        "for _ in range(10):\n",
        "    print(sample(model))"
      ],
      "metadata": {
        "id": "5DWCnByF-dDE",
        "colab": {
          "base_uri": "https://localhost:8080/"
        },
        "outputId": "7823bea7-b2aa-4c00-8053-2391f2c754ea"
      },
      "execution_count": null,
      "outputs": [
        {
          "output_type": "stream",
          "name": "stdout",
          "text": [
            "COC(=O)C1=C(C)NC(=O)NC1c1cc(C(F)(F)F)ccc1OC)c1nncn1CC)c1cccnc1C1CC1C)C(C)CC#N)C(C)C)C1CC1COCC1CC1)c1c\n",
            "CCOc1ccccc1OC(=O)Cc1ccon1)c1cnn2cccnc12)c1ccco1)C1CC1C)C1CC1C)C1CC1CC1=O)CC1(C)CCOCC1)C1CC1OCCO1C)C(C\n",
            "CCOc1ccccc1NS(=O)(=O)c1cc(C)sc1C(=O)OC)C(C)C1=O)c1ccccc1OCC(N)=O)c1cccnc1NC(C)=O)C(C)C)C(C)C)c1ccco1)\n",
            "COc1ccc(OC)c(Cc2nc3cccc(C(=O)OC)c3[nH]2)c1OC(F)F)C(N)=O)c1ccccc1F)C1CC1CC1CC1CC1=O)CC1(C)Cl)c1nc[nH]n\n",
            "CCn1cc(S(=O)(=O)N2CCCCC2)cc1C(=O)OCC#CCN1CCOCC1C1CC1)C(N)=O)c1ccccc1F)C(C)CC#N)C(C)(C)C)C(C)CC#N)C(C)\n",
            "C(#CCC(=O)N1CCCC(C(F)(F)F)C1)c1ccccc1F)C1CCC1(=O)NC1CC1)C1CC1CC1=O)c1ccncc1F)C1CC1C1CC1(C)CC1F)C(=O)O\n",
            "COc1cc(CNC(=O)Nc2cnn(CC3CCCO3)c2)ccn1C1CC1CC1CC1)C(N)=O)c1ccccc1F)C1CC1C1CC1)C(C)C)c1nscc1C#N)C(N)=O)\n",
            "COc1ccc(NC(=O)NCc2cc(C3CC3)cn2C)cn1)c1ccccc1F)c1ccncc1F)C1CC1C)C1CC1(C)OC(C)(C)O1)C1CC1CC1C)C1(C)CC1(\n",
            "CCCCc1ccc(C2CCCN2C(=O)C(C)NS(C)(=O)=O)cc1OCC(C)CC)c1COC(C)=O)c1ccccc1Cl)c1cccnc1OCCCC#N)C(C)C#N)C1CC1\n",
            "COC(=O)CC1CCCCN1C(=O)Nc1cccnc1-n1cccn1)c1ccccc1F)C1CC1C1CC1)c1ccncc1Cl)c1ccncc1F)C1CC1C1CC1)C(=O)OC)c\n"
          ]
        }
      ]
    },
    {
      "cell_type": "code",
      "source": [
        "from rdkit import Chem\n",
        "\n",
        "def is_valid_smiles(smiles):\n",
        "    mol = Chem.MolFromSmiles(smiles)\n",
        "    return mol is not None"
      ],
      "metadata": {
        "id": "ED94Tup20151"
      },
      "execution_count": null,
      "outputs": []
    },
    {
      "cell_type": "code",
      "source": [
        "generated = [sample(model) for _ in range(100)]\n",
        "valid_smiles = [s for s in generated if is_valid_smiles(s)]\n",
        "\n",
        "print(f\"Generated: {len(generated)}\")\n",
        "print(f\"Valid: {len(valid_smiles)}\")\n",
        "print(\"Some valid SMILES:\")\n",
        "for s in valid_smiles[:5]:\n",
        "    print(s)\n"
      ],
      "metadata": {
        "colab": {
          "base_uri": "https://localhost:8080/"
        },
        "id": "wTpKo4Zt1OaM",
        "outputId": "3ca994ae-1c4c-4318-8db2-9e5edf3c3430"
      },
      "execution_count": null,
      "outputs": [
        {
          "output_type": "stream",
          "name": "stdout",
          "text": [
            "Generated: 100\n",
            "Valid: 0\n",
            "Some valid SMILES:\n"
          ]
        },
        {
          "output_type": "stream",
          "name": "stderr",
          "text": [
            "[19:16:55] SMILES Parse Error: extra close parentheses while parsing: CCNC(=O)CSc1nnc(-c2cccnc2)n1C1CC1)c1cccc(C)c1F)NC1CC1)C1CC1C(C)C1CC1=O)CC1CC1O)C(O)C1CC1C)C1CC1C)C1CC\n",
            "[19:16:55] SMILES Parse Error: Failed parsing SMILES 'CCNC(=O)CSc1nnc(-c2cccnc2)n1C1CC1)c1cccc(C)c1F)NC1CC1)C1CC1C(C)C1CC1=O)CC1CC1O)C(O)C1CC1C)C1CC1C)C1CC' for input: 'CCNC(=O)CSc1nnc(-c2cccnc2)n1C1CC1)c1cccc(C)c1F)NC1CC1)C1CC1C(C)C1CC1=O)CC1CC1O)C(O)C1CC1C)C1CC1C)C1CC'\n",
            "[19:16:55] SMILES Parse Error: extra close parentheses while parsing: CCNC(=O)CN1CCN(C(=O)Nc2ccccc2F)CC1CC(C)O)C1CC1CCCO1)C1CCC1CCOCC1CC1)c1ccncc1C1CC1Cl)C(C)C#N)C1CC1C(=O\n",
            "[19:16:55] SMILES Parse Error: Failed parsing SMILES 'CCNC(=O)CN1CCN(C(=O)Nc2ccccc2F)CC1CC(C)O)C1CC1CCCO1)C1CCC1CCOCC1CC1)c1ccncc1C1CC1Cl)C(C)C#N)C1CC1C(=O' for input: 'CCNC(=O)CN1CCN(C(=O)Nc2ccccc2F)CC1CC(C)O)C1CC1CCCO1)C1CCC1CCOCC1CC1)c1ccncc1C1CC1Cl)C(C)C#N)C1CC1C(=O'\n",
            "[19:16:55] SMILES Parse Error: extra close parentheses while parsing: CC(=O)c1cnc2nc(-c3cccc4ccccc34)nn2c1C=COC(C)CC(C)C)C(N)=O)C1CC1C(=O)OC(C)(C)C)C1CC1CC(C)(C)C)OCCO1)c1\n",
            "[19:16:55] SMILES Parse Error: Failed parsing SMILES 'CC(=O)c1cnc2nc(-c3cccc4ccccc34)nn2c1C=COC(C)CC(C)C)C(N)=O)C1CC1C(=O)OC(C)(C)C)C1CC1CC(C)(C)C)OCCO1)c1' for input: 'CC(=O)c1cnc2nc(-c3cccc4ccccc34)nn2c1C=COC(C)CC(C)C)C(N)=O)C1CC1C(=O)OC(C)(C)C)C1CC1CC(C)(C)C)OCCO1)c1'\n",
            "[19:16:55] SMILES Parse Error: extra close parentheses while parsing: CC(=O)N1CCN(c2ccccc2C#N)CC1C(N)=O)c1ccc(F)cc1F)C(C)C)C(C)(C)C#N)C1CC1CC1=O)C(C)=C1(NCC)C(C)O1CCC1=O)c\n",
            "[19:16:55] SMILES Parse Error: Failed parsing SMILES 'CC(=O)N1CCN(c2ccccc2C#N)CC1C(N)=O)c1ccc(F)cc1F)C(C)C)C(C)(C)C#N)C1CC1CC1=O)C(C)=C1(NCC)C(C)O1CCC1=O)c' for input: 'CC(=O)N1CCN(c2ccccc2C#N)CC1C(N)=O)c1ccc(F)cc1F)C(C)C)C(C)(C)C#N)C1CC1CC1=O)C(C)=C1(NCC)C(C)O1CCC1=O)c'\n",
            "[19:16:55] SMILES Parse Error: extra close parentheses while parsing: CN(C)c1nc(CCNC(=O)c2cc3ccccc3c(=O)[nH]2)no1)C1CC1C(C)CC1CC1C)C1CC1Cl)C1CC1C1CC1)C1CC1(C(N)=O)c1ccccc1\n",
            "[19:16:55] SMILES Parse Error: Failed parsing SMILES 'CN(C)c1nc(CCNC(=O)c2cc3ccccc3c(=O)[nH]2)no1)C1CC1C(C)CC1CC1C)C1CC1Cl)C1CC1C1CC1)C1CC1(C(N)=O)c1ccccc1' for input: 'CN(C)c1nc(CCNC(=O)c2cc3ccccc3c(=O)[nH]2)no1)C1CC1C(C)CC1CC1C)C1CC1Cl)C1CC1C1CC1)C1CC1(C(N)=O)c1ccccc1'\n",
            "[19:16:55] SMILES Parse Error: extra close parentheses while parsing: Cc1ccc(OCC(=O)Nc2nc(-c3ccco3)cs2)cc1Cl)c1nncn1CC1CC1)c1ccncc1Cl)C1CCC1OCC1CC1)C1CC1C(C)C1CC1=O)c1ccnc\n",
            "[19:16:55] SMILES Parse Error: Failed parsing SMILES 'Cc1ccc(OCC(=O)Nc2nc(-c3ccco3)cs2)cc1Cl)c1nncn1CC1CC1)c1ccncc1Cl)C1CCC1OCC1CC1)C1CC1C(C)C1CC1=O)c1ccnc' for input: 'Cc1ccc(OCC(=O)Nc2nc(-c3ccco3)cs2)cc1Cl)c1nncn1CC1CC1)c1ccncc1Cl)C1CCC1OCC1CC1)C1CC1C(C)C1CC1=O)c1ccnc'\n",
            "[19:16:55] SMILES Parse Error: extra close parentheses while parsing: CCCOc1ccccc1-c1ncc(N)n1C1CC1)c1ncoc1C(F)(F)F)C1CC1CC1C)C1=CCC1C#N)C(C)CO1CCCOC1)C(N)=O)C(C)(C)C#N)C1C\n",
            "[19:16:55] SMILES Parse Error: Failed parsing SMILES 'CCCOc1ccccc1-c1ncc(N)n1C1CC1)c1ncoc1C(F)(F)F)C1CC1CC1C)C1=CCC1C#N)C(C)CO1CCCOC1)C(N)=O)C(C)(C)C#N)C1C' for input: 'CCCOc1ccccc1-c1ncc(N)n1C1CC1)c1ncoc1C(F)(F)F)C1CC1CC1C)C1=CCC1C#N)C(C)CO1CCCOC1)C(N)=O)C(C)(C)C#N)C1C'\n",
            "[19:16:55] SMILES Parse Error: extra close parentheses while parsing: COC(=O)CNC(=O)C(N)c1cc(F)ccc1F)c1cc(C)no1C)c1ccccc1Cl)c1ccccc1Cl)c1cnn(C)c1C(C)C#N)c1noc(C)n1)c1ccccn\n",
            "[19:16:55] SMILES Parse Error: Failed parsing SMILES 'COC(=O)CNC(=O)C(N)c1cc(F)ccc1F)c1cc(C)no1C)c1ccccc1Cl)c1ccccc1Cl)c1cnn(C)c1C(C)C#N)c1noc(C)n1)c1ccccn' for input: 'COC(=O)CNC(=O)C(N)c1cc(F)ccc1F)c1cc(C)no1C)c1ccccc1Cl)c1ccccc1Cl)c1cnn(C)c1C(C)C#N)c1noc(C)n1)c1ccccn'\n",
            "[19:16:55] SMILES Parse Error: extra close parentheses while parsing: CN(Cc1cccc(F)c1)C(=O)COc1ccc(C#N)cc1Cl=O)C1CC1c1ccccc1)c1cccnc1OC(C)C#N)c1ccncc1F)c1ccccc1F)c1ccncc1F\n",
            "[19:16:55] SMILES Parse Error: Failed parsing SMILES 'CN(Cc1cccc(F)c1)C(=O)COc1ccc(C#N)cc1Cl=O)C1CC1c1ccccc1)c1cccnc1OC(C)C#N)c1ccncc1F)c1ccccc1F)c1ccncc1F' for input: 'CN(Cc1cccc(F)c1)C(=O)COc1ccc(C#N)cc1Cl=O)C1CC1c1ccccc1)c1cccnc1OC(C)C#N)c1ccncc1F)c1ccccc1F)c1ccncc1F'\n",
            "[19:16:55] SMILES Parse Error: extra close parentheses while parsing: Cc1ccc(CNC(=O)N(C)CCOc2ccccc2)c(=O)[nH]1)c1ccccn1)c1ccccc1C#N)C1CC1COCC1CC1)C(N)=O)c1ccccc1F)C1CC1COC\n",
            "[19:16:55] SMILES Parse Error: Failed parsing SMILES 'Cc1ccc(CNC(=O)N(C)CCOc2ccccc2)c(=O)[nH]1)c1ccccn1)c1ccccc1C#N)C1CC1COCC1CC1)C(N)=O)c1ccccc1F)C1CC1COC' for input: 'Cc1ccc(CNC(=O)N(C)CCOc2ccccc2)c(=O)[nH]1)c1ccccn1)c1ccccc1C#N)C1CC1COCC1CC1)C(N)=O)c1ccccc1F)C1CC1COC'\n",
            "[19:16:55] SMILES Parse Error: extra close parentheses while parsing: Cc1cccc(CC(C)n2c(=O)oc3cc(Cl)ccc32)n1C1CC1)C(=O)NC(C)C)c1noc1C1CC1CC(=O)N(C)C1CC1C#N)C1(C)CC1)c1ccccn\n",
            "[19:16:55] SMILES Parse Error: Failed parsing SMILES 'Cc1cccc(CC(C)n2c(=O)oc3cc(Cl)ccc32)n1C1CC1)C(=O)NC(C)C)c1noc1C1CC1CC(=O)N(C)C1CC1C#N)C1(C)CC1)c1ccccn' for input: 'Cc1cccc(CC(C)n2c(=O)oc3cc(Cl)ccc32)n1C1CC1)C(=O)NC(C)C)c1noc1C1CC1CC(=O)N(C)C1CC1C#N)C1(C)CC1)c1ccccn'\n",
            "[19:16:55] SMILES Parse Error: extra close parentheses while parsing: CCCN(CC(=O)OC)C(=O)c1cccc(NC(C)=O)c1Cl)c1ccccc1C#N)c1ccccn1)c1ccccn1)c1cccn1C)c1ccncc1Cl)C1CC1C1CC1)c\n",
            "[19:16:55] SMILES Parse Error: Failed parsing SMILES 'CCCN(CC(=O)OC)C(=O)c1cccc(NC(C)=O)c1Cl)c1ccccc1C#N)c1ccccn1)c1ccccn1)c1cccn1C)c1ccncc1Cl)C1CC1C1CC1)c' for input: 'CCCN(CC(=O)OC)C(=O)c1cccc(NC(C)=O)c1Cl)c1ccccc1C#N)c1ccccn1)c1ccccn1)c1cccn1C)c1ccncc1Cl)C1CC1C1CC1)c'\n",
            "[19:16:55] SMILES Parse Error: extra close parentheses while parsing: CC(C)Oc1ccc(C2Nc3ccccc3C(=O)N2C(C)C)cc1NC(C)CC#N)c1cccnc1F)C1CC1(Cl)Cl)C1CC1CC1CC1=O)CC1(C)OCCO1)c1cc\n",
            "[19:16:55] SMILES Parse Error: Failed parsing SMILES 'CC(C)Oc1ccc(C2Nc3ccccc3C(=O)N2C(C)C)cc1NC(C)CC#N)c1cccnc1F)C1CC1(Cl)Cl)C1CC1CC1CC1=O)CC1(C)OCCO1)c1cc' for input: 'CC(C)Oc1ccc(C2Nc3ccccc3C(=O)N2C(C)C)cc1NC(C)CC#N)c1cccnc1F)C1CC1(Cl)Cl)C1CC1CC1CC1=O)CC1(C)OCCO1)c1cc'\n",
            "[19:16:55] SMILES Parse Error: extra close parentheses while parsing: CC1CCC(C(N)=O)CN1c1cc(Br)ccc1C(N)=O)C(C)C1CC1C)c1ccoc1C1CC1C(C)C)C(N)=O)c1ccccc1F)c1cc[nH]n1)C1CC1C(=\n",
            "[19:16:55] SMILES Parse Error: Failed parsing SMILES 'CC1CCC(C(N)=O)CN1c1cc(Br)ccc1C(N)=O)C(C)C1CC1C)c1ccoc1C1CC1C(C)C)C(N)=O)c1ccccc1F)c1cc[nH]n1)C1CC1C(=' for input: 'CC1CCC(C(N)=O)CN1c1cc(Br)ccc1C(N)=O)C(C)C1CC1C)c1ccoc1C1CC1C(C)C)C(N)=O)c1ccccc1F)c1cc[nH]n1)C1CC1C(='\n",
            "[19:16:55] SMILES Parse Error: extra close parentheses while parsing: CCOc1cc(C)ccc1NC(=O)NCC1CN2CCCCC2CO1)c1nc(C)cs1)C(C)CC(C)C)C1CC1C#N)C(C)C1C=COC1OCCOCC1OCCCO1CCCC1CCC\n",
            "[19:16:55] SMILES Parse Error: Failed parsing SMILES 'CCOc1cc(C)ccc1NC(=O)NCC1CN2CCCCC2CO1)c1nc(C)cs1)C(C)CC(C)C)C1CC1C#N)C(C)C1C=COC1OCCOCC1OCCCO1CCCC1CCC' for input: 'CCOc1cc(C)ccc1NC(=O)NCC1CN2CCCCC2CO1)c1nc(C)cs1)C(C)CC(C)C)C1CC1C#N)C(C)C1C=COC1OCCOCC1OCCCO1CCCC1CCC'\n",
            "[19:16:55] SMILES Parse Error: extra close parentheses while parsing: COC(=O)c1ccccc1NC(=O)CNc1ncc(C)cn1C)c1ccccc1F)c1ccco1)c1ccncc1F)c1ccccn1)c1ccccn1)c1noc(C)n1)C(C)C#N)\n",
            "[19:16:55] SMILES Parse Error: Failed parsing SMILES 'COC(=O)c1ccccc1NC(=O)CNc1ncc(C)cn1C)c1ccccc1F)c1ccco1)c1ccncc1F)c1ccccn1)c1ccccn1)c1noc(C)n1)C(C)C#N)' for input: 'COC(=O)c1ccccc1NC(=O)CNc1ncc(C)cn1C)c1ccccc1F)c1ccco1)c1ccncc1F)c1ccccn1)c1ccccn1)c1noc(C)n1)C(C)C#N)'\n",
            "[19:16:55] SMILES Parse Error: extra close parentheses while parsing: Cc1cc(C)n2nc(C(=O)OCC(=O)N(C)Cc3ccccc3)nc2n1C(C)C#N)c1COC(C)C)C(F)(F)F)C1CCCO1C1CC1OCC1CC1=O)CC1=CCC1\n",
            "[19:16:55] SMILES Parse Error: Failed parsing SMILES 'Cc1cc(C)n2nc(C(=O)OCC(=O)N(C)Cc3ccccc3)nc2n1C(C)C#N)c1COC(C)C)C(F)(F)F)C1CCCO1C1CC1OCC1CC1=O)CC1=CCC1' for input: 'Cc1cc(C)n2nc(C(=O)OCC(=O)N(C)Cc3ccccc3)nc2n1C(C)C#N)c1COC(C)C)C(F)(F)F)C1CCCO1C1CC1OCC1CC1=O)CC1=CCC1'\n",
            "[19:16:55] SMILES Parse Error: extra close parentheses while parsing: CSc1ccc(OC(C)C)c(OCC(=O)OC(C)C)c1C(N)=O)c1ccccc1F)C1CC1C1CC1)C1CC1(C)CC1=O)CC1CC1C)C(C)N1CCOCC1C1CC1)\n",
            "[19:16:55] SMILES Parse Error: Failed parsing SMILES 'CSc1ccc(OC(C)C)c(OCC(=O)OC(C)C)c1C(N)=O)c1ccccc1F)C1CC1C1CC1)C1CC1(C)CC1=O)CC1CC1C)C(C)N1CCOCC1C1CC1)' for input: 'CSc1ccc(OC(C)C)c(OCC(=O)OC(C)C)c1C(N)=O)c1ccccc1F)C1CC1C1CC1)C1CC1(C)CC1=O)CC1CC1C)C(C)N1CCOCC1C1CC1)'\n",
            "[19:16:55] SMILES Parse Error: extra close parentheses while parsing: Cc1nc(CNC(=O)N2CCSc3nc(C)cc(C)n32)no1)c1ccccc1Cl)C(C)C#N)C(C)CC#N)C(C)C)c1ccco1)c1ccco1)C1CCOC1)C1CC1\n",
            "[19:16:55] SMILES Parse Error: Failed parsing SMILES 'Cc1nc(CNC(=O)N2CCSc3nc(C)cc(C)n32)no1)c1ccccc1Cl)C(C)C#N)C(C)CC#N)C(C)C)c1ccco1)c1ccco1)C1CCOC1)C1CC1' for input: 'Cc1nc(CNC(=O)N2CCSc3nc(C)cc(C)n32)no1)c1ccccc1Cl)C(C)C#N)C(C)CC#N)C(C)C)c1ccco1)c1ccco1)C1CCOC1)C1CC1'\n",
            "[19:16:55] SMILES Parse Error: extra close parentheses while parsing: CCOc1cc(C)c(Cl)cc1S(=O)(=O)N1CC=C(C)CC1COCC1CC1)C(=O)OC(C)C)n1cnnn1)c1ccccc1F)C1CC1)c1cccs1)C(C)C#N)C\n",
            "[19:16:55] SMILES Parse Error: Failed parsing SMILES 'CCOc1cc(C)c(Cl)cc1S(=O)(=O)N1CC=C(C)CC1COCC1CC1)C(=O)OC(C)C)n1cnnn1)c1ccccc1F)C1CC1)c1cccs1)C(C)C#N)C' for input: 'CCOc1cc(C)c(Cl)cc1S(=O)(=O)N1CC=C(C)CC1COCC1CC1)C(=O)OC(C)C)n1cnnn1)c1ccccc1F)C1CC1)c1cccs1)C(C)C#N)C'\n",
            "[19:16:55] SMILES Parse Error: extra close parentheses while parsing: Cc1cn2cc(CNC(=O)N(C)C(C)c3cccnc3)ccc2n1C1CC1CC1CC1)C1CC1C(C)C)C(N)=O)c1ccccn1)C(N)=O)c1ccccc1F)c1cccc\n",
            "[19:16:55] SMILES Parse Error: Failed parsing SMILES 'Cc1cn2cc(CNC(=O)N(C)C(C)c3cccnc3)ccc2n1C1CC1CC1CC1)C1CC1C(C)C)C(N)=O)c1ccccn1)C(N)=O)c1ccccc1F)c1cccc' for input: 'Cc1cn2cc(CNC(=O)N(C)C(C)c3cccnc3)ccc2n1C1CC1CC1CC1)C1CC1C(C)C)C(N)=O)c1ccccn1)C(N)=O)c1ccccc1F)c1cccc'\n",
            "[19:16:55] SMILES Parse Error: extra close parentheses while parsing: CC(=O)Nc1ccc(OCC(=O)Nc2ccc(C)cn2)cc1Cl)c1ccccc1F)c1ccncc1F)C1CC1C#N)c1ccccc1F)C1CC1C#N)c1ccncc1F)C1CC\n",
            "[19:16:55] SMILES Parse Error: Failed parsing SMILES 'CC(=O)Nc1ccc(OCC(=O)Nc2ccc(C)cn2)cc1Cl)c1ccccc1F)c1ccncc1F)C1CC1C#N)c1ccccc1F)C1CC1C#N)c1ccncc1F)C1CC' for input: 'CC(=O)Nc1ccc(OCC(=O)Nc2ccc(C)cn2)cc1Cl)c1ccccc1F)c1ccncc1F)C1CC1C#N)c1ccccc1F)C1CC1C#N)c1ccncc1F)C1CC'\n",
            "[19:16:55] SMILES Parse Error: extra close parentheses while parsing: CC1Cc2ccccc2N1C(=O)Cn1nc(-c2ccco2)ccc1=O)c1cccs1)c1cccnc1FC1CC1)C1CC1CC1C)C1CC1C#N)C(C)C1COC1CC1CC1)C\n",
            "[19:16:55] SMILES Parse Error: Failed parsing SMILES 'CC1Cc2ccccc2N1C(=O)Cn1nc(-c2ccco2)ccc1=O)c1cccs1)c1cccnc1FC1CC1)C1CC1CC1C)C1CC1C#N)C(C)C1COC1CC1CC1)C' for input: 'CC1Cc2ccccc2N1C(=O)Cn1nc(-c2ccco2)ccc1=O)c1cccs1)c1cccnc1FC1CC1)C1CC1CC1C)C1CC1C#N)C(C)C1COC1CC1CC1)C'\n",
            "[19:16:55] SMILES Parse Error: extra close parentheses while parsing: Cn1cnnc1C1CCN(C(=O)Nc2nc3ccccc3s2)CC1O)C1CC1C1CC1)c1cccnc1C1CC1CC(C)C)C(N)OC(C)C(C)(C)CO)c1nccn1CC(N)\n",
            "[19:16:55] SMILES Parse Error: Failed parsing SMILES 'Cn1cnnc1C1CCN(C(=O)Nc2nc3ccccc3s2)CC1O)C1CC1C1CC1)c1cccnc1C1CC1CC(C)C)C(N)OC(C)C(C)(C)CO)c1nccn1CC(N)' for input: 'Cn1cnnc1C1CCN(C(=O)Nc2nc3ccccc3s2)CC1O)C1CC1C1CC1)c1cccnc1C1CC1CC(C)C)C(N)OC(C)C(C)(C)CO)c1nccn1CC(N)'\n",
            "[19:16:55] SMILES Parse Error: extra close parentheses while parsing: CC1COCCN1C(=O)c1ccc(CSc2ccccc2)cc1N)C(C)CC#N)c1cccnc1C1CC1COCC1CC1)C1CC1C(C)CO1)C1CC1C(N)=O)c1ccccc1C\n",
            "[19:16:55] SMILES Parse Error: Failed parsing SMILES 'CC1COCCN1C(=O)c1ccc(CSc2ccccc2)cc1N)C(C)CC#N)c1cccnc1C1CC1COCC1CC1)C1CC1C(C)CO1)C1CC1C(N)=O)c1ccccc1C' for input: 'CC1COCCN1C(=O)c1ccc(CSc2ccccc2)cc1N)C(C)CC#N)c1cccnc1C1CC1COCC1CC1)C1CC1C(C)CO1)C1CC1C(N)=O)c1ccccc1C'\n",
            "[19:16:55] SMILES Parse Error: extra close parentheses while parsing: CCCCC(=O)NCCc1nc(-c2cccs2)no1)c1ccncc1Cl)C1=CCCC1OC(C)C)C(=O)OC)c1nc[nH]c1C)c1ccccc1F)C1CC1C(=O)OCC1C\n",
            "[19:16:55] SMILES Parse Error: Failed parsing SMILES 'CCCCC(=O)NCCc1nc(-c2cccs2)no1)c1ccncc1Cl)C1=CCCC1OC(C)C)C(=O)OC)c1nc[nH]c1C)c1ccccc1F)C1CC1C(=O)OCC1C' for input: 'CCCCC(=O)NCCc1nc(-c2cccs2)no1)c1ccncc1Cl)C1=CCCC1OC(C)C)C(=O)OC)c1nc[nH]c1C)c1ccccc1F)C1CC1C(=O)OCC1C'\n",
            "[19:16:55] SMILES Parse Error: extra close parentheses while parsing: CCOC(=O)c1nn(C)c(C)c1NC(=O)c1cc(C2CC2)on1)c1cccnc1CC(C)CC)C(C)C)C(C)CC#N)C(C)C1CC1(C)CCO)c1ccncc1C#N)\n",
            "[19:16:55] SMILES Parse Error: Failed parsing SMILES 'CCOC(=O)c1nn(C)c(C)c1NC(=O)c1cc(C2CC2)on1)c1cccnc1CC(C)CC)C(C)C)C(C)CC#N)C(C)C1CC1(C)CCO)c1ccncc1C#N)' for input: 'CCOC(=O)c1nn(C)c(C)c1NC(=O)c1cc(C2CC2)on1)c1cccnc1CC(C)CC)C(C)C)C(C)CC#N)C(C)C1CC1(C)CCO)c1ccncc1C#N)'\n",
            "[19:16:55] SMILES Parse Error: extra close parentheses while parsing: CC1CCN(C(=O)CN2CCN(C(C)c3cccnc3)CC2)CC1COCC1CC1)C1CC1C(C)C1CC1=O)Cn1cncn1)c1ccccc1Cl)c1cscn1)c1ccccc1\n",
            "[19:16:55] SMILES Parse Error: Failed parsing SMILES 'CC1CCN(C(=O)CN2CCN(C(C)c3cccnc3)CC2)CC1COCC1CC1)C1CC1C(C)C1CC1=O)Cn1cncn1)c1ccccc1Cl)c1cscn1)c1ccccc1' for input: 'CC1CCN(C(=O)CN2CCN(C(C)c3cccnc3)CC2)CC1COCC1CC1)C1CC1C(C)C1CC1=O)Cn1cncn1)c1ccccc1Cl)c1cscn1)c1ccccc1'\n",
            "[19:16:55] SMILES Parse Error: extra close parentheses while parsing: CC(=O)c1cccc(S(=O)(=O)NCc2ccnc(OC(C)(C)C)c2)c1ClC(N)=O)c1ccccc1C#N)C(=O)OC(C)(C)C)c1ccccc1F)c1ccco1)c\n",
            "[19:16:55] SMILES Parse Error: Failed parsing SMILES 'CC(=O)c1cccc(S(=O)(=O)NCc2ccnc(OC(C)(C)C)c2)c1ClC(N)=O)c1ccccc1C#N)C(=O)OC(C)(C)C)c1ccccc1F)c1ccco1)c' for input: 'CC(=O)c1cccc(S(=O)(=O)NCc2ccnc(OC(C)(C)C)c2)c1ClC(N)=O)c1ccccc1C#N)C(=O)OC(C)(C)C)c1ccccc1F)c1ccco1)c'\n",
            "[19:16:55] SMILES Parse Error: extra close parentheses while parsing: CC(Sc1nncs1)C(=O)NC1(c2ccccc2F)CC1)C1CC1C)C1CC1=O)C1CC1OCCO)C1CC1C)C1CC1CC1CC1=O)CC1(C)COC1=O)C1CC1C)\n",
            "[19:16:55] SMILES Parse Error: Failed parsing SMILES 'CC(Sc1nncs1)C(=O)NC1(c2ccccc2F)CC1)C1CC1C)C1CC1=O)C1CC1OCCO)C1CC1C)C1CC1CC1CC1=O)CC1(C)COC1=O)C1CC1C)' for input: 'CC(Sc1nncs1)C(=O)NC1(c2ccccc2F)CC1)C1CC1C)C1CC1=O)C1CC1OCCO)C1CC1C)C1CC1CC1CC1=O)CC1(C)COC1=O)C1CC1C)'\n",
            "[19:16:55] SMILES Parse Error: extra close parentheses while parsing: Cc1ccccc1NC(=O)C(C)Sc1ncc2ccccn12)C(=O)NC(C)C)c1=O)C1CC1C(C)C)C1CC1(C)CCC1=O)CC1(C)C#N)c1ccccn1)c1ccc\n",
            "[19:16:55] SMILES Parse Error: Failed parsing SMILES 'Cc1ccccc1NC(=O)C(C)Sc1ncc2ccccn12)C(=O)NC(C)C)c1=O)C1CC1C(C)C)C1CC1(C)CCC1=O)CC1(C)C#N)c1ccccn1)c1ccc' for input: 'Cc1ccccc1NC(=O)C(C)Sc1ncc2ccccn12)C(=O)NC(C)C)c1=O)C1CC1C(C)C)C1CC1(C)CCC1=O)CC1(C)C#N)c1ccccn1)c1ccc'\n",
            "[19:16:55] SMILES Parse Error: extra close parentheses while parsing: CCOC(=O)CNC(=O)C(NC(C)=O)C(C)C)c1ccc(C)c(C)c1Cl)C1CC1CC1CC1=O)C(C)OCC1OCC(C)C)c1ccccc1Cl)c1cccs1)c1cc\n",
            "[19:16:55] SMILES Parse Error: Failed parsing SMILES 'CCOC(=O)CNC(=O)C(NC(C)=O)C(C)C)c1ccc(C)c(C)c1Cl)C1CC1CC1CC1=O)C(C)OCC1OCC(C)C)c1ccccc1Cl)c1cccs1)c1cc' for input: 'CCOC(=O)CNC(=O)C(NC(C)=O)C(C)C)c1ccc(C)c(C)c1Cl)C1CC1CC1CC1=O)C(C)OCC1OCC(C)C)c1ccccc1Cl)c1cccs1)c1cc'\n",
            "[19:16:55] SMILES Parse Error: extra close parentheses while parsing: COCC(C)NC(=O)Nc1ccc(NC(C)=O)cc1C(F)(F)F)C(C)C)C(C)(C)C)c1ccnn1CCOC(C)C)c1ccccc1F)c1cccnc1)c1cccnc1)c1\n",
            "[19:16:55] SMILES Parse Error: Failed parsing SMILES 'COCC(C)NC(=O)Nc1ccc(NC(C)=O)cc1C(F)(F)F)C(C)C)C(C)(C)C)c1ccnn1CCOC(C)C)c1ccccc1F)c1cccnc1)c1cccnc1)c1' for input: 'COCC(C)NC(=O)Nc1ccc(NC(C)=O)cc1C(F)(F)F)C(C)C)C(C)(C)C)c1ccnn1CCOC(C)C)c1ccccc1F)c1cccnc1)c1cccnc1)c1'\n",
            "[19:16:55] SMILES Parse Error: extra close parentheses while parsing: CC(Nc1cc(Cl)ccc1C#N)c1ccc2[nH]c(=O)[nH]c(=O)c2c1OC(C)C(N)=O)C(C)(C)C)c1occc1C1CC1CC1CC1CC1Cl)c1ccccn1\n",
            "[19:16:55] SMILES Parse Error: Failed parsing SMILES 'CC(Nc1cc(Cl)ccc1C#N)c1ccc2[nH]c(=O)[nH]c(=O)c2c1OC(C)C(N)=O)C(C)(C)C)c1occc1C1CC1CC1CC1CC1Cl)c1ccccn1' for input: 'CC(Nc1cc(Cl)ccc1C#N)c1ccc2[nH]c(=O)[nH]c(=O)c2c1OC(C)C(N)=O)C(C)(C)C)c1occc1C1CC1CC1CC1CC1Cl)c1ccccn1'\n",
            "[19:16:55] SMILES Parse Error: extra close parentheses while parsing: COc1ccc(-c2nn3cc(O)nnc3c2)cc1OC(C)C)c1ccccc1C#N)c1ccncc1Cl)C(C)C#N)C1CC1=O)C1CC1CC1=O)C(C)C1C#N)c1ccc\n",
            "[19:16:55] SMILES Parse Error: Failed parsing SMILES 'COc1ccc(-c2nn3cc(O)nnc3c2)cc1OC(C)C)c1ccccc1C#N)c1ccncc1Cl)C(C)C#N)C1CC1=O)C1CC1CC1=O)C(C)C1C#N)c1ccc' for input: 'COc1ccc(-c2nn3cc(O)nnc3c2)cc1OC(C)C)c1ccccc1C#N)c1ccncc1Cl)C(C)C#N)C1CC1=O)C1CC1CC1=O)C(C)C1C#N)c1ccc'\n",
            "[19:16:55] SMILES Parse Error: extra close parentheses while parsing: Cc1nc(N(C)C)sc1CN1CCn2c(nnc2C)C1c1ccccc1F)C1CC1)N1CCCC1=O)C(C)CC#N)C1CC1C(C)CC1=O)C1CC1C(N)=O)C1CC1CC\n",
            "[19:16:55] SMILES Parse Error: Failed parsing SMILES 'Cc1nc(N(C)C)sc1CN1CCn2c(nnc2C)C1c1ccccc1F)C1CC1)N1CCCC1=O)C(C)CC#N)C1CC1C(C)CC1=O)C1CC1C(N)=O)C1CC1CC' for input: 'Cc1nc(N(C)C)sc1CN1CCn2c(nnc2C)C1c1ccccc1F)C1CC1)N1CCCC1=O)C(C)CC#N)C1CC1C(C)CC1=O)C1CC1C(N)=O)C1CC1CC'\n",
            "[19:16:55] SMILES Parse Error: extra close parentheses while parsing: COc1ccc(NC(=O)c2cnn(C)c2-n2cccc2)cc1OC(F)F)C1CCC1COCC1CC1)C1CC1(Cl)Cll)c1cccnc1N)c1ccccn1)c1cccnc1N1C\n",
            "[19:16:55] SMILES Parse Error: Failed parsing SMILES 'COc1ccc(NC(=O)c2cnn(C)c2-n2cccc2)cc1OC(F)F)C1CCC1COCC1CC1)C1CC1(Cl)Cll)c1cccnc1N)c1ccccn1)c1cccnc1N1C' for input: 'COc1ccc(NC(=O)c2cnn(C)c2-n2cccc2)cc1OC(F)F)C1CCC1COCC1CC1)C1CC1(Cl)Cll)c1cccnc1N)c1ccccn1)c1cccnc1N1C'\n",
            "[19:16:55] SMILES Parse Error: extra close parentheses while parsing: Cc1cc(NC(=O)Cc2nc(-c3ccoc3)n(C)n2)no1)c1ccccc1F)C(C)C1CC1)C(C)C#N)CC1CC1C)c1cnn(C)c1C(N)=O)C1CC1)C1CC\n",
            "[19:16:55] SMILES Parse Error: Failed parsing SMILES 'Cc1cc(NC(=O)Cc2nc(-c3ccoc3)n(C)n2)no1)c1ccccc1F)C(C)C1CC1)C(C)C#N)CC1CC1C)c1cnn(C)c1C(N)=O)C1CC1)C1CC' for input: 'Cc1cc(NC(=O)Cc2nc(-c3ccoc3)n(C)n2)no1)c1ccccc1F)C(C)C1CC1)C(C)C#N)CC1CC1C)c1cnn(C)c1C(N)=O)C1CC1)C1CC'\n",
            "[19:16:55] SMILES Parse Error: extra close parentheses while parsing: CCOCCNC(=O)NC(c1cccc(F)c1)c1nccn1CC(C)C#N)c1ccncn1)C(C)COC(C)=O)c1ccccc1Cl)c1nnc(C)[nH]1)c1ccccc1Cl)C\n",
            "[19:16:55] SMILES Parse Error: Failed parsing SMILES 'CCOCCNC(=O)NC(c1cccc(F)c1)c1nccn1CC(C)C#N)c1ccncn1)C(C)COC(C)=O)c1ccccc1Cl)c1nnc(C)[nH]1)c1ccccc1Cl)C' for input: 'CCOCCNC(=O)NC(c1cccc(F)c1)c1nccn1CC(C)C#N)c1ccncn1)C(C)COC(C)=O)c1ccccc1Cl)c1nnc(C)[nH]1)c1ccccc1Cl)C'\n",
            "[19:16:55] SMILES Parse Error: extra close parentheses while parsing: Cc1nc2c(cc(C(=O)N3CCCc4ccccc43)n2C)c(=O)[nH]1CCOC(C)=O)c1ccccc1F)C(C)C)C(C)CC#N)c1cccs1)c1cccnc1C1CC1\n",
            "[19:16:55] SMILES Parse Error: Failed parsing SMILES 'Cc1nc2c(cc(C(=O)N3CCCc4ccccc43)n2C)c(=O)[nH]1CCOC(C)=O)c1ccccc1F)C(C)C)C(C)CC#N)c1cccs1)c1cccnc1C1CC1' for input: 'Cc1nc2c(cc(C(=O)N3CCCc4ccccc43)n2C)c(=O)[nH]1CCOC(C)=O)c1ccccc1F)C(C)C)C(C)CC#N)c1cccs1)c1cccnc1C1CC1'\n",
            "[19:16:55] SMILES Parse Error: extra close parentheses while parsing: CC(Sc1ncn[nH]1)C(=O)NCC(F)(F)F)c1ccccc1F)c1ccccn1)c1ccccc1F)C1CC1C(=O)OC(C)(C)C)C(C)(C)O1)C(O)CO)c1cc\n",
            "[19:16:55] SMILES Parse Error: Failed parsing SMILES 'CC(Sc1ncn[nH]1)C(=O)NCC(F)(F)F)c1ccccc1F)c1ccccn1)c1ccccc1F)C1CC1C(=O)OC(C)(C)C)C(C)(C)O1)C(O)CO)c1cc' for input: 'CC(Sc1ncn[nH]1)C(=O)NCC(F)(F)F)c1ccccc1F)c1ccccn1)c1ccccc1F)C1CC1C(=O)OC(C)(C)C)C(C)(C)O1)C(O)CO)c1cc'\n",
            "[19:16:55] SMILES Parse Error: extra close parentheses while parsing: CCS(=O)(=O)N1CCCC1C(=O)Oc1ccc(Cl)cc1Cl)c1ccccn1)c1ccccc1C#N)c1ccncc1C(C)=O)c1ccccn1)c1ccccn1)c1ccccn1\n",
            "[19:16:55] SMILES Parse Error: Failed parsing SMILES 'CCS(=O)(=O)N1CCCC1C(=O)Oc1ccc(Cl)cc1Cl)c1ccccn1)c1ccccc1C#N)c1ccncc1C(C)=O)c1ccccn1)c1ccccn1)c1ccccn1' for input: 'CCS(=O)(=O)N1CCCC1C(=O)Oc1ccc(Cl)cc1Cl)c1ccccn1)c1ccccc1C#N)c1ccncc1C(C)=O)c1ccccn1)c1ccccn1)c1ccccn1'\n",
            "[19:16:55] SMILES Parse Error: extra close parentheses while parsing: Cc1cccc(OCC(CC#N)NS(C)(=O)=O)c1Cl)C(=O)N(C)C)C1CCC1CCCC(C)C)C(C)C)c1ccnn1C(C)C)c1ccco1)c1nccs1)c1cccc\n",
            "[19:16:55] SMILES Parse Error: Failed parsing SMILES 'Cc1cccc(OCC(CC#N)NS(C)(=O)=O)c1Cl)C(=O)N(C)C)C1CCC1CCCC(C)C)C(C)C)c1ccnn1C(C)C)c1ccco1)c1nccs1)c1cccc' for input: 'Cc1cccc(OCC(CC#N)NS(C)(=O)=O)c1Cl)C(=O)N(C)C)C1CCC1CCCC(C)C)C(C)C)c1ccnn1C(C)C)c1ccco1)c1nccs1)c1cccc'\n",
            "[19:16:55] SMILES Parse Error: extra close parentheses while parsing: CC(COc1ccccc1)NC(=O)N1CCC2CCCCC2C1=O)C1CC1COC1CC1C)C1(C)CC1OCCO1COCC1CC1)C1CC1C1CC1)C1CC1COC1CCOCC1CC\n",
            "[19:16:55] SMILES Parse Error: Failed parsing SMILES 'CC(COc1ccccc1)NC(=O)N1CCC2CCCCC2C1=O)C1CC1COC1CC1C)C1(C)CC1OCCO1COCC1CC1)C1CC1C1CC1)C1CC1COC1CCOCC1CC' for input: 'CC(COc1ccccc1)NC(=O)N1CCC2CCCCC2C1=O)C1CC1COC1CC1C)C1(C)CC1OCCO1COCC1CC1)C1CC1C1CC1)C1CC1COC1CCOCC1CC'\n",
            "[19:16:55] SMILES Parse Error: extra close parentheses while parsing: CCN(CC)S(=O)(=O)NCc1ccc(OC)c(OC)c1OC(F)F)C(O)COC)C(C)COC1CC1)N1CCOCC1C1CC1C#N)C1CC1C1CC1)C1CC1CC1CC1=\n",
            "[19:16:55] SMILES Parse Error: Failed parsing SMILES 'CCN(CC)S(=O)(=O)NCc1ccc(OC)c(OC)c1OC(F)F)C(O)COC)C(C)COC1CC1)N1CCOCC1C1CC1C#N)C1CC1C1CC1)C1CC1CC1CC1=' for input: 'CCN(CC)S(=O)(=O)NCc1ccc(OC)c(OC)c1OC(F)F)C(O)COC)C(C)COC1CC1)N1CCOCC1C1CC1C#N)C1CC1C1CC1)C1CC1CC1CC1='\n",
            "[19:16:55] SMILES Parse Error: extra close parentheses while parsing: Cc1cc(C(=O)OCc2cn3ccccc3n2)c2c(C)noc2n1C#N)C1CCCO1)C(=O)N(C)C)c1ccccc1F)C1CC1C#N)C1CC1(C)C)c1ccco1)C1\n",
            "[19:16:55] SMILES Parse Error: Failed parsing SMILES 'Cc1cc(C(=O)OCc2cn3ccccc3n2)c2c(C)noc2n1C#N)C1CCCO1)C(=O)N(C)C)c1ccccc1F)C1CC1C#N)C1CC1(C)C)c1ccco1)C1' for input: 'Cc1cc(C(=O)OCc2cn3ccccc3n2)c2c(C)noc2n1C#N)C1CCCO1)C(=O)N(C)C)c1ccccc1F)C1CC1C#N)C1CC1(C)C)c1ccco1)C1'\n",
            "[19:16:55] SMILES Parse Error: extra close parentheses while parsing: Cc1nn(-c2cccc(F)c2)c(C)c1C(=O)Nc1ccc(F)cc1F)c1cccnc1C(C)C)c1ccncc1F)NC(N)=O)C(C)C)c1ccncc1F)c1ccccc1F\n",
            "[19:16:55] SMILES Parse Error: Failed parsing SMILES 'Cc1nn(-c2cccc(F)c2)c(C)c1C(=O)Nc1ccc(F)cc1F)c1cccnc1C(C)C)c1ccncc1F)NC(N)=O)C(C)C)c1ccncc1F)c1ccccc1F' for input: 'Cc1nn(-c2cccc(F)c2)c(C)c1C(=O)Nc1ccc(F)cc1F)c1cccnc1C(C)C)c1ccncc1F)NC(N)=O)C(C)C)c1ccncc1F)c1ccccc1F'\n",
            "[19:16:55] SMILES Parse Error: extra close parentheses while parsing: COc1cccc(S(=O)(=O)NCc2ncoc2C)c1F)c1oc2ccccc2c1Cl)C1CCCO1)C(C)(C)CNC(C)=O)c1ccnn1CC(C)C)c1ccncc1F)C1CC\n",
            "[19:16:55] SMILES Parse Error: Failed parsing SMILES 'COc1cccc(S(=O)(=O)NCc2ncoc2C)c1F)c1oc2ccccc2c1Cl)C1CCCO1)C(C)(C)CNC(C)=O)c1ccnn1CC(C)C)c1ccncc1F)C1CC' for input: 'COc1cccc(S(=O)(=O)NCc2ncoc2C)c1F)c1oc2ccccc2c1Cl)C1CCCO1)C(C)(C)CNC(C)=O)c1ccnn1CC(C)C)c1ccncc1F)C1CC'\n",
            "[19:16:55] SMILES Parse Error: extra close parentheses while parsing: Cc1ccc(NC(=O)CN(C)S(=O)(=O)c2cccc(F)c2)c(O)c1F)C(C)C)n1ccnc1OCC(C)C)c1ccccc1Cl)c1cccs1)C1CC1C(C)CCC1O\n",
            "[19:16:55] SMILES Parse Error: Failed parsing SMILES 'Cc1ccc(NC(=O)CN(C)S(=O)(=O)c2cccc(F)c2)c(O)c1F)C(C)C)n1ccnc1OCC(C)C)c1ccccc1Cl)c1cccs1)C1CC1C(C)CCC1O' for input: 'Cc1ccc(NC(=O)CN(C)S(=O)(=O)c2cccc(F)c2)c(O)c1F)C(C)C)n1ccnc1OCC(C)C)c1ccccc1Cl)c1cccs1)C1CC1C(C)CCC1O'\n",
            "[19:16:55] SMILES Parse Error: extra close parentheses while parsing: Cc1cc(C(=O)NC(c2ccccc2)C(F)(F)F)c(C)n1C1CC1(C)CO1CCOC1=O)c1ccc[nH]1)c1ccccc1F)C1CC1C(F)F)C1CC1CC1CC1=\n",
            "[19:16:55] SMILES Parse Error: Failed parsing SMILES 'Cc1cc(C(=O)NC(c2ccccc2)C(F)(F)F)c(C)n1C1CC1(C)CO1CCOC1=O)c1ccc[nH]1)c1ccccc1F)C1CC1C(F)F)C1CC1CC1CC1=' for input: 'Cc1cc(C(=O)NC(c2ccccc2)C(F)(F)F)c(C)n1C1CC1(C)CO1CCOC1=O)c1ccc[nH]1)c1ccccc1F)C1CC1C(F)F)C1CC1CC1CC1='\n",
            "[19:16:55] SMILES Parse Error: extra close parentheses while parsing: CCn1cnnc1CNC(=O)CCN1C(=O)CCc2ccccc21)c1ccccc1OC(F)F)C1CCCC1CCCCC#N)C(N)=O)C1CC1C(C)CCC12CCOCC21CCOCC1\n",
            "[19:16:55] SMILES Parse Error: Failed parsing SMILES 'CCn1cnnc1CNC(=O)CCN1C(=O)CCc2ccccc21)c1ccccc1OC(F)F)C1CCCC1CCCCC#N)C(N)=O)C1CC1C(C)CCC12CCOCC21CCOCC1' for input: 'CCn1cnnc1CNC(=O)CCN1C(=O)CCc2ccccc21)c1ccccc1OC(F)F)C1CCCC1CCCCC#N)C(N)=O)C1CC1C(C)CCC12CCOCC21CCOCC1'\n",
            "[19:16:55] SMILES Parse Error: extra close parentheses while parsing: CCCNC(=O)CN(C)C(=O)CN1CCc2ccccc21)c1ccco1)C(C)CC#N)C(C)(C)C)c1ccccc1F)C1CC1)C1CC1(C(C)C)OC(C)=O)C1C#N\n",
            "[19:16:55] SMILES Parse Error: Failed parsing SMILES 'CCCNC(=O)CN(C)C(=O)CN1CCc2ccccc21)c1ccco1)C(C)CC#N)C(C)(C)C)c1ccccc1F)C1CC1)C1CC1(C(C)C)OC(C)=O)C1C#N' for input: 'CCCNC(=O)CN(C)C(=O)CN1CCc2ccccc21)c1ccco1)C(C)CC#N)C(C)(C)C)c1ccccc1F)C1CC1)C1CC1(C(C)C)OC(C)=O)C1C#N'\n",
            "[19:16:55] SMILES Parse Error: extra close parentheses while parsing: CC(C)(NC(=O)c1ccc(=O)[nH]n1)c1ccc(Cl)cc1Cl)c1cccnc1OCC(N)=O)c1ccccc1F)c1ccccc1F)c1ccccn1)c1ccccn1)c1c\n",
            "[19:16:55] SMILES Parse Error: Failed parsing SMILES 'CC(C)(NC(=O)c1ccc(=O)[nH]n1)c1ccc(Cl)cc1Cl)c1cccnc1OCC(N)=O)c1ccccc1F)c1ccccc1F)c1ccccn1)c1ccccn1)c1c' for input: 'CC(C)(NC(=O)c1ccc(=O)[nH]n1)c1ccc(Cl)cc1Cl)c1cccnc1OCC(N)=O)c1ccccc1F)c1ccccc1F)c1ccccn1)c1ccccn1)c1c'\n",
            "[19:16:55] SMILES Parse Error: extra close parentheses while parsing: CC1(C)CCC(CC(=O)NCc2cccnc2)c2ccccc21)C1(C#N)CC1(O)COCC1CCOC1CC1CC1)C1CC1(Cl)Cl)c1ccccc1C1CC1OCCO2)c1n\n",
            "[19:16:55] SMILES Parse Error: Failed parsing SMILES 'CC1(C)CCC(CC(=O)NCc2cccnc2)c2ccccc21)C1(C#N)CC1(O)COCC1CCOC1CC1CC1)C1CC1(Cl)Cl)c1ccccc1C1CC1OCCO2)c1n' for input: 'CC1(C)CCC(CC(=O)NCc2cccnc2)c2ccccc21)C1(C#N)CC1(O)COCC1CCOC1CC1CC1)C1CC1(Cl)Cl)c1ccccc1C1CC1OCCO2)c1n'\n",
            "[19:16:55] SMILES Parse Error: extra close parentheses while parsing: Cc1ccccc1OCC(=O)Nc1ccc(NS(N)(=O)=O)cc1Cl)C1CC1C)C1CC1C(C)C1CC1CC1C1CC1)C(N)=O)C(C)C)C(=O)N(C)C)c1cccc\n",
            "[19:16:55] SMILES Parse Error: Failed parsing SMILES 'Cc1ccccc1OCC(=O)Nc1ccc(NS(N)(=O)=O)cc1Cl)C1CC1C)C1CC1C(C)C1CC1CC1C1CC1)C(N)=O)C(C)C)C(=O)N(C)C)c1cccc' for input: 'Cc1ccccc1OCC(=O)Nc1ccc(NS(N)(=O)=O)cc1Cl)C1CC1C)C1CC1C(C)C1CC1CC1C1CC1)C(N)=O)C(C)C)C(=O)N(C)C)c1cccc'\n",
            "[19:16:55] SMILES Parse Error: extra close parentheses while parsing: Cc1cc(CN2CCN(C(=O)C3(c4ccccc4)CCCC3)CC2)n(C)n1)c1cccnc1C(F)F)C1CC1C1CC1)C1CCOC1C)C(C)C)c1cnn(C)c1C#N)\n",
            "[19:16:55] SMILES Parse Error: Failed parsing SMILES 'Cc1cc(CN2CCN(C(=O)C3(c4ccccc4)CCCC3)CC2)n(C)n1)c1cccnc1C(F)F)C1CC1C1CC1)C1CCOC1C)C(C)C)c1cnn(C)c1C#N)' for input: 'Cc1cc(CN2CCN(C(=O)C3(c4ccccc4)CCCC3)CC2)n(C)n1)c1cccnc1C(F)F)C1CC1C1CC1)C1CCOC1C)C(C)C)c1cnn(C)c1C#N)'\n",
            "[19:16:55] SMILES Parse Error: extra close parentheses while parsing: CCN(CCO)C(=O)Nc1c(C(=O)N(C)C)nc2ccccn12)C1CC1C)c1ccncc1F)C(C)(C)C1CC1C)C1CC1CC1OCC1CC1(C)C)C(=O)OC)C(\n",
            "[19:16:55] SMILES Parse Error: Failed parsing SMILES 'CCN(CCO)C(=O)Nc1c(C(=O)N(C)C)nc2ccccn12)C1CC1C)c1ccncc1F)C(C)(C)C1CC1C)C1CC1CC1OCC1CC1(C)C)C(=O)OC)C(' for input: 'CCN(CCO)C(=O)Nc1c(C(=O)N(C)C)nc2ccccn12)C1CC1C)c1ccncc1F)C(C)(C)C1CC1C)C1CC1CC1OCC1CC1(C)C)C(=O)OC)C('\n",
            "[19:16:55] SMILES Parse Error: extra close parentheses while parsing: CCOC(CC)C(=O)Nc1ccc(CC(=O)NC)cc1Cl)c1ccccn1)c1ccccn1)c1ccccn1)c1ccccn1)c1ccccn1)c1ccccn1)c1ccccn1)c1c\n",
            "[19:16:55] SMILES Parse Error: Failed parsing SMILES 'CCOC(CC)C(=O)Nc1ccc(CC(=O)NC)cc1Cl)c1ccccn1)c1ccccn1)c1ccccn1)c1ccccn1)c1ccccn1)c1ccccn1)c1ccccn1)c1c' for input: 'CCOC(CC)C(=O)Nc1ccc(CC(=O)NC)cc1Cl)c1ccccn1)c1ccccn1)c1ccccn1)c1ccccn1)c1ccccn1)c1ccccn1)c1ccccn1)c1c'\n",
            "[19:16:55] SMILES Parse Error: extra close parentheses while parsing: Cc1nc2ccc(NC(=O)NCc3ncn(C)n3)cc2o1)c1ccccc1C#N)c1ccccc1F)C(C)C#N)C1CCCO1)C1CC1C1CC1)C1CC1(C)CC1C)C1CC\n",
            "[19:16:55] SMILES Parse Error: Failed parsing SMILES 'Cc1nc2ccc(NC(=O)NCc3ncn(C)n3)cc2o1)c1ccccc1C#N)c1ccccc1F)C(C)C#N)C1CCCO1)C1CC1C1CC1)C1CC1(C)CC1C)C1CC' for input: 'Cc1nc2ccc(NC(=O)NCc3ncn(C)n3)cc2o1)c1ccccc1C#N)c1ccccc1F)C(C)C#N)C1CCCO1)C1CC1C1CC1)C1CC1(C)CC1C)C1CC'\n",
            "[19:16:55] SMILES Parse Error: extra close parentheses while parsing: CCNC(=O)C(C)NC(=O)c1cnn(Cc2ccccc2)c1CC(C)C)C1CC1CC1C)C1CC1C1CC1)C1CC1C(C)C1CC1CC1OC)C(=O)OCO1C(C)=O)c\n",
            "[19:16:55] SMILES Parse Error: Failed parsing SMILES 'CCNC(=O)C(C)NC(=O)c1cnn(Cc2ccccc2)c1CC(C)C)C1CC1CC1C)C1CC1C1CC1)C1CC1C(C)C1CC1CC1OC)C(=O)OCO1C(C)=O)c' for input: 'CCNC(=O)C(C)NC(=O)c1cnn(Cc2ccccc2)c1CC(C)C)C1CC1CC1C)C1CC1C1CC1)C1CC1C(C)C1CC1CC1OC)C(=O)OCO1C(C)=O)c'\n",
            "[19:16:55] SMILES Parse Error: extra close parentheses while parsing: Cc1cc(C(=O)N2CCC(C)CC2)c2c(C)[nH]nc2n1C1CC1)C(=O)NC1CC1CC1CC1)C1CC1C(C)CC1CC1=O)CC1CC1=O)c1ccco1)c1cc\n",
            "[19:16:55] SMILES Parse Error: Failed parsing SMILES 'Cc1cc(C(=O)N2CCC(C)CC2)c2c(C)[nH]nc2n1C1CC1)C(=O)NC1CC1CC1CC1)C1CC1C(C)CC1CC1=O)CC1CC1=O)c1ccco1)c1cc' for input: 'Cc1cc(C(=O)N2CCC(C)CC2)c2c(C)[nH]nc2n1C1CC1)C(=O)NC1CC1CC1CC1)C1CC1C(C)CC1CC1=O)CC1CC1=O)c1ccco1)c1cc'\n",
            "[19:16:55] SMILES Parse Error: extra close parentheses while parsing: Cc1cc(C)n(CC(=O)Nc2ccccc2SCC(F)(F)F)n1C1CC1)C1CCCO1)C(N)=O)c1cccnc1C1CC1CC1CC1)c1ccccc1F)c1ccncc1F)c1\n",
            "[19:16:55] SMILES Parse Error: Failed parsing SMILES 'Cc1cc(C)n(CC(=O)Nc2ccccc2SCC(F)(F)F)n1C1CC1)C1CCCO1)C(N)=O)c1cccnc1C1CC1CC1CC1)c1ccccc1F)c1ccncc1F)c1' for input: 'Cc1cc(C)n(CC(=O)Nc2ccccc2SCC(F)(F)F)n1C1CC1)C1CCCO1)C(N)=O)c1cccnc1C1CC1CC1CC1)c1ccccc1F)c1ccncc1F)c1'\n",
            "[19:16:55] SMILES Parse Error: extra close parentheses while parsing: COc1cccn(CC(=O)Nc2cc(OC)c(OC)cc2F)c1=O)c1ccccc1OC(C)C)c1ccccn1)c1ccccc1C#N)c1ccncc1Cl)c1ccncc1F)C1CC1\n",
            "[19:16:55] SMILES Parse Error: Failed parsing SMILES 'COc1cccn(CC(=O)Nc2cc(OC)c(OC)cc2F)c1=O)c1ccccc1OC(C)C)c1ccccn1)c1ccccc1C#N)c1ccncc1Cl)c1ccncc1F)C1CC1' for input: 'COc1cccn(CC(=O)Nc2cc(OC)c(OC)cc2F)c1=O)c1ccccc1OC(C)C)c1ccccn1)c1ccccc1C#N)c1ccncc1Cl)c1ccncc1F)C1CC1'\n",
            "[19:16:55] SMILES Parse Error: extra close parentheses while parsing: C=CCn1c(C)cc(C(=O)COC(=O)c2cccc(C)c2)c1C1CC1(C)CC1(C)C)C(=O)OC)C(C)OC(C)=O)c1nocn1)C(N)=O)c1ccccc1Cl)\n",
            "[19:16:55] SMILES Parse Error: Failed parsing SMILES 'C=CCn1c(C)cc(C(=O)COC(=O)c2cccc(C)c2)c1C1CC1(C)CC1(C)C)C(=O)OC)C(C)OC(C)=O)c1nocn1)C(N)=O)c1ccccc1Cl)' for input: 'C=CCn1c(C)cc(C(=O)COC(=O)c2cccc(C)c2)c1C1CC1(C)CC1(C)C)C(=O)OC)C(C)OC(C)=O)c1nocn1)C(N)=O)c1ccccc1Cl)'\n",
            "[19:16:55] SMILES Parse Error: extra close parentheses while parsing: Cc1cc(C(=O)OCC(=O)NC(C)c2ccccc2)on1C1CC1C(C)C)CO1CCCC1OCCO)c1ccccc1F)c1ccncc1F)c1noc(C2CC2)n1)c1ccccc\n",
            "[19:16:55] SMILES Parse Error: Failed parsing SMILES 'Cc1cc(C(=O)OCC(=O)NC(C)c2ccccc2)on1C1CC1C(C)C)CO1CCCC1OCCO)c1ccccc1F)c1ccncc1F)c1noc(C2CC2)n1)c1ccccc' for input: 'Cc1cc(C(=O)OCC(=O)NC(C)c2ccccc2)on1C1CC1C(C)C)CO1CCCC1OCCO)c1ccccc1F)c1ccncc1F)c1noc(C2CC2)n1)c1ccccc'\n",
            "[19:16:55] SMILES Parse Error: extra close parentheses while parsing: Cc1nc(C)n(Cc2cc(Cl)c3c(c2)OCCO3)n1CC(C)COCCOCCOCCOC1CCCCO1)C(N)=O)C1CC1C1CC1)C1CC1C(C)CC1C)C(C)C)c1cc\n",
            "[19:16:55] SMILES Parse Error: Failed parsing SMILES 'Cc1nc(C)n(Cc2cc(Cl)c3c(c2)OCCO3)n1CC(C)COCCOCCOCCOC1CCCCO1)C(N)=O)C1CC1C1CC1)C1CC1C(C)CC1C)C(C)C)c1cc' for input: 'Cc1nc(C)n(Cc2cc(Cl)c3c(c2)OCCO3)n1CC(C)COCCOCCOCCOC1CCCCO1)C(N)=O)C1CC1C1CC1)C1CC1C(C)CC1C)C(C)C)c1cc'\n",
            "[19:16:55] SMILES Parse Error: extra close parentheses while parsing: Cc1cccc(C(C)NC(=O)C(NC(=O)c2ccccc2F)C2CC2)n1C1CC1)C1CCCO1)c1ccccc1F)C1CC1C)C(O)CO1)c1ccco1)c1ccccc1F)\n",
            "[19:16:55] SMILES Parse Error: Failed parsing SMILES 'Cc1cccc(C(C)NC(=O)C(NC(=O)c2ccccc2F)C2CC2)n1C1CC1)C1CCCO1)c1ccccc1F)C1CC1C)C(O)CO1)c1ccco1)c1ccccc1F)' for input: 'Cc1cccc(C(C)NC(=O)C(NC(=O)c2ccccc2F)C2CC2)n1C1CC1)C1CCCO1)c1ccccc1F)C1CC1C)C(O)CO1)c1ccco1)c1ccccc1F)'\n",
            "[19:16:55] SMILES Parse Error: extra close parentheses while parsing: CC(=O)N1CCCC(C(=O)Oc2ccc(C#N)cc2Cl)C1=O)C1CC1(Cl)Cl)C1CC1(Cl)Cl)c1ccco1)c1nonc1N)c1ccccc1F)C1CCCC1C#N\n",
            "[19:16:55] SMILES Parse Error: Failed parsing SMILES 'CC(=O)N1CCCC(C(=O)Oc2ccc(C#N)cc2Cl)C1=O)C1CC1(Cl)Cl)C1CC1(Cl)Cl)c1ccco1)c1nonc1N)c1ccccc1F)C1CCCC1C#N' for input: 'CC(=O)N1CCCC(C(=O)Oc2ccc(C#N)cc2Cl)C1=O)C1CC1(Cl)Cl)C1CC1(Cl)Cl)c1ccco1)c1nonc1N)c1ccccc1F)C1CCCC1C#N'\n",
            "[19:16:55] SMILES Parse Error: extra close parentheses while parsing: CCN1C(=O)Cc2cc(Br)ccc21)c1ccco1)c1ccncc1Cl)C1CC1OCC1CC1)C1CC1C(C)C1CC1=O)CCC1(C)O)c1nccn1CC(C)C)c1ccn\n",
            "[19:16:55] SMILES Parse Error: Failed parsing SMILES 'CCN1C(=O)Cc2cc(Br)ccc21)c1ccco1)c1ccncc1Cl)C1CC1OCC1CC1)C1CC1C(C)C1CC1=O)CCC1(C)O)c1nccn1CC(C)C)c1ccn' for input: 'CCN1C(=O)Cc2cc(Br)ccc21)c1ccco1)c1ccncc1Cl)C1CC1OCC1CC1)C1CC1C(C)C1CC1=O)CCC1(C)O)c1nccn1CC(C)C)c1ccn'\n",
            "[19:16:55] SMILES Parse Error: extra close parentheses while parsing: Cn1nc(C(C)(C)C)nc1C1CCCN1C(=O)c1cccs1)C1OCCO1)c1ccncc1F)c1ccccn1)c1ccccc1F)C1CC1C1CC1)C1CC1(C)CC1CC1=\n",
            "[19:16:55] SMILES Parse Error: Failed parsing SMILES 'Cn1nc(C(C)(C)C)nc1C1CCCN1C(=O)c1cccs1)C1OCCO1)c1ccncc1F)c1ccccn1)c1ccccc1F)C1CC1C1CC1)C1CC1(C)CC1CC1=' for input: 'Cn1nc(C(C)(C)C)nc1C1CCCN1C(=O)c1cccs1)C1OCCO1)c1ccncc1F)c1ccccn1)c1ccccc1F)C1CC1C1CC1)C1CC1(C)CC1CC1='\n",
            "[19:16:55] SMILES Parse Error: extra close parentheses while parsing: CCC1CN(C(=O)CNc2ccc(F)cc2C#N)CCO1)C1CC1CC1C)C1CCC1OCCOCCOCC1CC1)C1CC1C1CC1)C(C)C1CC1)c1ccncc1F)c1ccnc\n",
            "[19:16:55] SMILES Parse Error: Failed parsing SMILES 'CCC1CN(C(=O)CNc2ccc(F)cc2C#N)CCO1)C1CC1CC1C)C1CCC1OCCOCCOCC1CC1)C1CC1C1CC1)C(C)C1CC1)c1ccncc1F)c1ccnc' for input: 'CCC1CN(C(=O)CNc2ccc(F)cc2C#N)CCO1)C1CC1CC1C)C1CCC1OCCOCCOCC1CC1)C1CC1C1CC1)C(C)C1CC1)c1ccncc1F)c1ccnc'\n",
            "[19:16:55] SMILES Parse Error: extra close parentheses while parsing: CCCNC(=O)NC(C)c1csc(C)n1)c1ccc(SC)cc1OCC(=O)N1CCCC1)C(C)=O)c1ccncc1Cl)C1CC1CC1C)C1CC1(C)C#N)C1(C)C(=O\n",
            "[19:16:55] SMILES Parse Error: Failed parsing SMILES 'CCCNC(=O)NC(C)c1csc(C)n1)c1ccc(SC)cc1OCC(=O)N1CCCC1)C(C)=O)c1ccncc1Cl)C1CC1CC1C)C1CC1(C)C#N)C1(C)C(=O' for input: 'CCCNC(=O)NC(C)c1csc(C)n1)c1ccc(SC)cc1OCC(=O)N1CCCC1)C(C)=O)c1ccncc1Cl)C1CC1CC1C)C1CC1(C)C#N)C1(C)C(=O'\n",
            "[19:16:55] SMILES Parse Error: extra close parentheses while parsing: CCNC(=O)NC(C(=O)N1CCc2ccccc21)C1CC1C#N)c1ccco1)C(C)CC#N)c1ccncc1Cl)c1ccsc1CC1CC12CC2CCC(=O)N1CC1CC1CC\n",
            "[19:16:55] SMILES Parse Error: Failed parsing SMILES 'CCNC(=O)NC(C(=O)N1CCc2ccccc21)C1CC1C#N)c1ccco1)C(C)CC#N)c1ccncc1Cl)c1ccsc1CC1CC12CC2CCC(=O)N1CC1CC1CC' for input: 'CCNC(=O)NC(C(=O)N1CCc2ccccc21)C1CC1C#N)c1ccco1)C(C)CC#N)c1ccncc1Cl)c1ccsc1CC1CC12CC2CCC(=O)N1CC1CC1CC'\n",
            "[19:16:55] SMILES Parse Error: extra close parentheses while parsing: Cc1c(C)n(CC2CCCCC2)c2nc(C)c(C(=O)NC(C)C)c(=O)n12)c1ccncc1)C1CCCCC1)C(N)=O)C(C)(C)C1CC1(Cl)Cl)c1ccco1)\n",
            "[19:16:55] SMILES Parse Error: Failed parsing SMILES 'Cc1c(C)n(CC2CCCCC2)c2nc(C)c(C(=O)NC(C)C)c(=O)n12)c1ccncc1)C1CCCCC1)C(N)=O)C(C)(C)C1CC1(Cl)Cl)c1ccco1)' for input: 'Cc1c(C)n(CC2CCCCC2)c2nc(C)c(C(=O)NC(C)C)c(=O)n12)c1ccncc1)C1CCCCC1)C(N)=O)C(C)(C)C1CC1(Cl)Cl)c1ccco1)'\n",
            "[19:16:55] SMILES Parse Error: extra close parentheses while parsing: Cc1nn(CC(=O)NC(C)(C)CC(C)(C)C)c(C)c1NC(C)=O)c1ccccc1F)c1ccco1)c1nccn1C(C)C)C(N)=O)c1ccccc1F)C1CC12CCC\n",
            "[19:16:55] SMILES Parse Error: Failed parsing SMILES 'Cc1nn(CC(=O)NC(C)(C)CC(C)(C)C)c(C)c1NC(C)=O)c1ccccc1F)c1ccco1)c1nccn1C(C)C)C(N)=O)c1ccccc1F)C1CC12CCC' for input: 'Cc1nn(CC(=O)NC(C)(C)CC(C)(C)C)c(C)c1NC(C)=O)c1ccccc1F)c1ccco1)c1nccn1C(C)C)C(N)=O)c1ccccc1F)C1CC12CCC'\n",
            "[19:16:55] SMILES Parse Error: extra close parentheses while parsing: COC(=O)C1CC2CCCCC2N1S(=O)(=O)C(C)C)c1oc2ccccc2c1Cl)C(N)=O)c1ccccc1C#N)C(C)C)c1ncnn1CC(C)C#N)c1ccco1)C\n",
            "[19:16:55] SMILES Parse Error: Failed parsing SMILES 'COC(=O)C1CC2CCCCC2N1S(=O)(=O)C(C)C)c1oc2ccccc2c1Cl)C(N)=O)c1ccccc1C#N)C(C)C)c1ncnn1CC(C)C#N)c1ccco1)C' for input: 'COC(=O)C1CC2CCCCC2N1S(=O)(=O)C(C)C)c1oc2ccccc2c1Cl)C(N)=O)c1ccccc1C#N)C(C)C)c1ncnn1CC(C)C#N)c1ccco1)C'\n",
            "[19:16:55] SMILES Parse Error: extra close parentheses while parsing: CC(C)c1nc2ncc(C(=O)NCc3cncc(Cl)c3)cn2n1C(C)C#N)C(C)C)C(C)(C)C)c1ccncc1F)c1ccccn1)c1ccccc1)c1cnccn1C(N\n",
            "[19:16:55] SMILES Parse Error: Failed parsing SMILES 'CC(C)c1nc2ncc(C(=O)NCc3cncc(Cl)c3)cn2n1C(C)C#N)C(C)C)C(C)(C)C)c1ccncc1F)c1ccccn1)c1ccccc1)c1cnccn1C(N' for input: 'CC(C)c1nc2ncc(C(=O)NCc3cncc(Cl)c3)cn2n1C(C)C#N)C(C)C)C(C)(C)C)c1ccncc1F)c1ccccn1)c1ccccc1)c1cnccn1C(N'\n",
            "[19:16:55] SMILES Parse Error: extra close parentheses while parsing: C=C(C)c1cccc(S(=O)(=O)NCc2ccccc2COC)c1CC(C)C)C(=O)OC)c1nccn1C)C1CC1C1CC1)C(=O)OC)c1ccnn1C(C)C)C(C)C)C\n",
            "[19:16:55] SMILES Parse Error: Failed parsing SMILES 'C=C(C)c1cccc(S(=O)(=O)NCc2ccccc2COC)c1CC(C)C)C(=O)OC)c1nccn1C)C1CC1C1CC1)C(=O)OC)c1ccnn1C(C)C)C(C)C)C' for input: 'C=C(C)c1cccc(S(=O)(=O)NCc2ccccc2COC)c1CC(C)C)C(=O)OC)c1nccn1C)C1CC1C1CC1)C(=O)OC)c1ccnn1C(C)C)C(C)C)C'\n",
            "[19:16:55] SMILES Parse Error: extra close parentheses while parsing: COc1ncccc1CNC(=O)c1ccc2nncn2c1)C1CCCO1)c1ccncc1F)N1CCOCC1C1CC1C=CC1CC1C2CC1)C(C)(C)CO)c1=O)C(C)(C)C)c\n",
            "[19:16:55] SMILES Parse Error: Failed parsing SMILES 'COc1ncccc1CNC(=O)c1ccc2nncn2c1)C1CCCO1)c1ccncc1F)N1CCOCC1C1CC1C=CC1CC1C2CC1)C(C)(C)CO)c1=O)C(C)(C)C)c' for input: 'COc1ncccc1CNC(=O)c1ccc2nncn2c1)C1CCCO1)c1ccncc1F)N1CCOCC1C1CC1C=CC1CC1C2CC1)C(C)(C)CO)c1=O)C(C)(C)C)c'\n",
            "[19:16:55] SMILES Parse Error: extra close parentheses while parsing: COC(=O)C(C)N1CC(C)Nc2nc3c(cc2c1C)OCCO3)c1ccccc1Cl)c1ccccn1)c1ccccn1)c1cccnc1OCC(F)F)c1ccco1)C1CC1C#N)\n",
            "[19:16:55] SMILES Parse Error: Failed parsing SMILES 'COC(=O)C(C)N1CC(C)Nc2nc3c(cc2c1C)OCCO3)c1ccccc1Cl)c1ccccn1)c1ccccn1)c1cccnc1OCC(F)F)c1ccco1)C1CC1C#N)' for input: 'COC(=O)C(C)N1CC(C)Nc2nc3c(cc2c1C)OCCO3)c1ccccc1Cl)c1ccccn1)c1ccccn1)c1cccnc1OCC(F)F)c1ccco1)C1CC1C#N)'\n",
            "[19:16:55] SMILES Parse Error: extra close parentheses while parsing: Cc1nn(C)cc1CCc1nc(-c2ccccc2)no1)c1n[nH]c(=O)[nH]1)c1ccccc1F)C(C)C1CC1C(C)C)C(N)=O)c1ccccc1F)C(N)=O)C1\n",
            "[19:16:55] SMILES Parse Error: Failed parsing SMILES 'Cc1nn(C)cc1CCc1nc(-c2ccccc2)no1)c1n[nH]c(=O)[nH]1)c1ccccc1F)C(C)C1CC1C(C)C)C(N)=O)c1ccccc1F)C(N)=O)C1' for input: 'Cc1nn(C)cc1CCc1nc(-c2ccccc2)no1)c1n[nH]c(=O)[nH]1)c1ccccc1F)C(C)C1CC1C(C)C)C(N)=O)c1ccccc1F)C(N)=O)C1'\n",
            "[19:16:55] SMILES Parse Error: extra close parentheses while parsing: CN(CCOCC1CC1)C(=O)NC1CC1c1ccccc1Cl)c1cccnc1OC(C)C)C(N)=O)c1ccccc1F)c1ccccc1C#N)C1CC1C#N)C(O)CO1C(N)=O\n",
            "[19:16:55] SMILES Parse Error: Failed parsing SMILES 'CN(CCOCC1CC1)C(=O)NC1CC1c1ccccc1Cl)c1cccnc1OC(C)C)C(N)=O)c1ccccc1F)c1ccccc1C#N)C1CC1C#N)C(O)CO1C(N)=O' for input: 'CN(CCOCC1CC1)C(=O)NC1CC1c1ccccc1Cl)c1cccnc1OC(C)C)C(N)=O)c1ccccc1F)c1ccccc1C#N)C1CC1C#N)C(O)CO1C(N)=O'\n",
            "[19:16:55] SMILES Parse Error: extra close parentheses while parsing: CCOC(=O)CN(C(=O)C(C)N1CCOCC1)c1ccc(F)cc1F)C1CC1C(N)=O)c1ccccc1Cl)c1ccccc1C#N)C1CC1C#N)C1CC1C#N)C(C)C1\n",
            "[19:16:55] SMILES Parse Error: Failed parsing SMILES 'CCOC(=O)CN(C(=O)C(C)N1CCOCC1)c1ccc(F)cc1F)C1CC1C(N)=O)c1ccccc1Cl)c1ccccc1C#N)C1CC1C#N)C1CC1C#N)C(C)C1' for input: 'CCOC(=O)CN(C(=O)C(C)N1CCOCC1)c1ccc(F)cc1F)C1CC1C(N)=O)c1ccccc1Cl)c1ccccc1C#N)C1CC1C#N)C1CC1C#N)C(C)C1'\n",
            "[19:16:55] SMILES Parse Error: extra close parentheses while parsing: CNC(=O)C1CC(C(=O)NCc2nncn2CC)CC(C)(C)C1=O)C1CC1CC1C)C(C)C1CC1CC1)C1CC1CC1C)C1CCC1OCCOC)C(=O)C1C(C)C)N\n",
            "[19:16:55] SMILES Parse Error: Failed parsing SMILES 'CNC(=O)C1CC(C(=O)NCc2nncn2CC)CC(C)(C)C1=O)C1CC1CC1C)C(C)C1CC1CC1)C1CC1CC1C)C1CCC1OCCOC)C(=O)C1C(C)C)N' for input: 'CNC(=O)C1CC(C(=O)NCc2nncn2CC)CC(C)(C)C1=O)C1CC1CC1C)C(C)C1CC1CC1)C1CC1CC1C)C1CCC1OCCOC)C(=O)C1C(C)C)N'\n",
            "[19:16:55] SMILES Parse Error: extra close parentheses while parsing: Cc1ccc(CC(=O)NCc2cccc(C(N)=O)c2)s1)c1ccccc1Cl)C1CC1C)C1CCC1O)c1n[nH]c2c1CCC2OC(C)C(C)C)C(C)C1CC1=O)C(\n",
            "[19:16:55] SMILES Parse Error: Failed parsing SMILES 'Cc1ccc(CC(=O)NCc2cccc(C(N)=O)c2)s1)c1ccccc1Cl)C1CC1C)C1CCC1O)c1n[nH]c2c1CCC2OC(C)C(C)C)C(C)C1CC1=O)C(' for input: 'Cc1ccc(CC(=O)NCc2cccc(C(N)=O)c2)s1)c1ccccc1Cl)C1CC1C)C1CCC1O)c1n[nH]c2c1CCC2OC(C)C(C)C)C(C)C1CC1=O)C('\n",
            "[19:16:55] SMILES Parse Error: extra close parentheses while parsing: CC(C)Oc1cccc(CNC(=O)c2cccc(OC(C)C)c2)c1C(N)=O)c1cccnc1C1CC1COCC1CC1CC1=O)c1ccccc1F)C1CC1C#N)C(C)COC1C\n",
            "[19:16:55] SMILES Parse Error: Failed parsing SMILES 'CC(C)Oc1cccc(CNC(=O)c2cccc(OC(C)C)c2)c1C(N)=O)c1cccnc1C1CC1COCC1CC1CC1=O)c1ccccc1F)C1CC1C#N)C(C)COC1C' for input: 'CC(C)Oc1cccc(CNC(=O)c2cccc(OC(C)C)c2)c1C(N)=O)c1cccnc1C1CC1COCC1CC1CC1=O)c1ccccc1F)C1CC1C#N)C(C)COC1C'\n",
            "[19:16:55] SMILES Parse Error: extra close parentheses while parsing: Cc1ccc(CCC(=O)N(C)C2CCCN(Sc3ccccn3)C2)o1)c1ccccc1F)C1CC1C#N)C(N)=O)c1ccccc1F)c1cccnc1OC1CCCC1)C(N)=O)\n",
            "[19:16:55] SMILES Parse Error: Failed parsing SMILES 'Cc1ccc(CCC(=O)N(C)C2CCCN(Sc3ccccn3)C2)o1)c1ccccc1F)C1CC1C#N)C(N)=O)c1ccccc1F)c1cccnc1OC1CCCC1)C(N)=O)' for input: 'Cc1ccc(CCC(=O)N(C)C2CCCN(Sc3ccccn3)C2)o1)c1ccccc1F)C1CC1C#N)C(N)=O)c1ccccc1F)c1cccnc1OC1CCCC1)C(N)=O)'\n",
            "[19:16:55] SMILES Parse Error: extra close parentheses while parsing: Cc1ccccc1CC(C#N)C(=O)N1CCOCC1)c1ccc(F)cc1F)C1CC1)C1CC1CC1=O)C(C)(O)C1CCC1OC(C)(C)C)C(C)C1CC1=O)c1ccnc\n",
            "[19:16:55] SMILES Parse Error: Failed parsing SMILES 'Cc1ccccc1CC(C#N)C(=O)N1CCOCC1)c1ccc(F)cc1F)C1CC1)C1CC1CC1=O)C(C)(O)C1CCC1OC(C)(C)C)C(C)C1CC1=O)c1ccnc' for input: 'Cc1ccccc1CC(C#N)C(=O)N1CCOCC1)c1ccc(F)cc1F)C1CC1)C1CC1CC1=O)C(C)(O)C1CCC1OC(C)(C)C)C(C)C1CC1=O)c1ccnc'\n",
            "[19:16:55] SMILES Parse Error: extra close parentheses while parsing: CCC(=O)N1CCC2(CC1)CN(C(=O)C1COCCO1)CC2C1CC1)C(C)CC#N)C1CC11CC1C)C1CC1CC1)c1ccccc1C)C1CC1C#N)c1ccnn1CC\n",
            "[19:16:55] SMILES Parse Error: Failed parsing SMILES 'CCC(=O)N1CCC2(CC1)CN(C(=O)C1COCCO1)CC2C1CC1)C(C)CC#N)C1CC11CC1C)C1CC1CC1)c1ccccc1C)C1CC1C#N)c1ccnn1CC' for input: 'CCC(=O)N1CCC2(CC1)CN(C(=O)C1COCCO1)CC2C1CC1)C(C)CC#N)C1CC11CC1C)C1CC1CC1)c1ccccc1C)C1CC1C#N)c1ccnn1CC'\n",
            "[19:16:55] SMILES Parse Error: extra close parentheses while parsing: CCOC(=O)c1cc2c(nc1OCC)C(=O)CC(c1cccc(OC)c1)O2)c1ccccn1)C1=CCOC1(C)C(F)=O)c1ccccc1Cl)c1ccccc1C#N)C(C)C\n",
            "[19:16:55] SMILES Parse Error: Failed parsing SMILES 'CCOC(=O)c1cc2c(nc1OCC)C(=O)CC(c1cccc(OC)c1)O2)c1ccccn1)C1=CCOC1(C)C(F)=O)c1ccccc1Cl)c1ccccc1C#N)C(C)C' for input: 'CCOC(=O)c1cc2c(nc1OCC)C(=O)CC(c1cccc(OC)c1)O2)c1ccccn1)C1=CCOC1(C)C(F)=O)c1ccccc1Cl)c1ccccc1C#N)C(C)C'\n",
            "[19:16:55] SMILES Parse Error: extra close parentheses while parsing: COc1ccccc1-n1nnc(C(=O)Nc2cccnc2)c1C1CC1CC1CC1)C1CC1C(C)C1CC1=O)C(C)C1C1CC1)NC(C)=O)c1ccccn1)c1occc1C=\n",
            "[19:16:55] SMILES Parse Error: Failed parsing SMILES 'COc1ccccc1-n1nnc(C(=O)Nc2cccnc2)c1C1CC1CC1CC1)C1CC1C(C)C1CC1=O)C(C)C1C1CC1)NC(C)=O)c1ccccn1)c1occc1C=' for input: 'COc1ccccc1-n1nnc(C(=O)Nc2cccnc2)c1C1CC1CC1CC1)C1CC1C(C)C1CC1=O)C(C)C1C1CC1)NC(C)=O)c1ccccn1)c1occc1C='\n",
            "[19:16:55] SMILES Parse Error: extra close parentheses while parsing: Cc1cc(CC2COCC2NC(=O)NC2(C(=O)OCC(C)C)CCCC2)on1)C(N)=O)c1ccccc1F)C1CC1)C1CC1C(F)F)C1CC1Cl)C1CC1(C)C(C)\n",
            "[19:16:55] SMILES Parse Error: Failed parsing SMILES 'Cc1cc(CC2COCC2NC(=O)NC2(C(=O)OCC(C)C)CCCC2)on1)C(N)=O)c1ccccc1F)C1CC1)C1CC1C(F)F)C1CC1Cl)C1CC1(C)C(C)' for input: 'Cc1cc(CC2COCC2NC(=O)NC2(C(=O)OCC(C)C)CCCC2)on1)C(N)=O)c1ccccc1F)C1CC1)C1CC1C(F)F)C1CC1Cl)C1CC1(C)C(C)'\n",
            "[19:16:55] SMILES Parse Error: extra close parentheses while parsing: CCOC(C)C(=O)N1CCc2ccc(Cl)cc2C1CNC1CC1)C1CC1C#N)C(C)C1CC1OC1CCOCC1CC1CC1)C(=O)OC)c1ccncc1F)C1CC1CC1CC1\n",
            "[19:16:55] SMILES Parse Error: Failed parsing SMILES 'CCOC(C)C(=O)N1CCc2ccc(Cl)cc2C1CNC1CC1)C1CC1C#N)C(C)C1CC1OC1CCOCC1CC1CC1)C(=O)OC)c1ccncc1F)C1CC1CC1CC1' for input: 'CCOC(C)C(=O)N1CCc2ccc(Cl)cc2C1CNC1CC1)C1CC1C#N)C(C)C1CC1OC1CCOCC1CC1CC1)C(=O)OC)c1ccncc1F)C1CC1CC1CC1'\n",
            "[19:16:55] SMILES Parse Error: extra close parentheses while parsing: CCCCOc1ccc(-c2nccn2CCc2cnc(C)s2)cc1NC(C)=O)c1cccnc1OCCCOC)c1ccccc1F)C(C)C#N)C(C)C)c1ccncn1C1CC1CCOC1(\n",
            "[19:16:55] SMILES Parse Error: Failed parsing SMILES 'CCCCOc1ccc(-c2nccn2CCc2cnc(C)s2)cc1NC(C)=O)c1cccnc1OCCCOC)c1ccccc1F)C(C)C#N)C(C)C)c1ccncn1C1CC1CCOC1(' for input: 'CCCCOc1ccc(-c2nccn2CCc2cnc(C)s2)cc1NC(C)=O)c1cccnc1OCCCOC)c1ccccc1F)C(C)C#N)C(C)C)c1ccncn1C1CC1CCOC1('\n",
            "[19:16:55] SMILES Parse Error: extra close parentheses while parsing: COC(=O)CN1C=NCC(C2CC2)c2nc3c(C)cccc3n21C(C)=O)C(C)COCC1CC1)c1ccccn1)c1noc(C)n1)c1ccncc1C(C)CC(C)CO)c1\n",
            "[19:16:55] SMILES Parse Error: Failed parsing SMILES 'COC(=O)CN1C=NCC(C2CC2)c2nc3c(C)cccc3n21C(C)=O)C(C)COCC1CC1)c1ccccn1)c1noc(C)n1)c1ccncc1C(C)CC(C)CO)c1' for input: 'COC(=O)CN1C=NCC(C2CC2)c2nc3c(C)cccc3n21C(C)=O)C(C)COCC1CC1)c1ccccn1)c1noc(C)n1)c1ccncc1C(C)CC(C)CO)c1'\n",
            "[19:16:55] SMILES Parse Error: extra close parentheses while parsing: Cc1nn(C)c(C)c1C1CCCN1C(=O)Nc1ccc(F)c(F)c1F)C(C)N1CCOCC1CC(C)C)c1ccncc1F)C(C)C#N)C1CC1C1CC1)C1CC1C(=O)\n",
            "[19:16:55] SMILES Parse Error: Failed parsing SMILES 'Cc1nn(C)c(C)c1C1CCCN1C(=O)Nc1ccc(F)c(F)c1F)C(C)N1CCOCC1CC(C)C)c1ccncc1F)C(C)C#N)C1CC1C1CC1)C1CC1C(=O)' for input: 'Cc1nn(C)c(C)c1C1CCCN1C(=O)Nc1ccc(F)c(F)c1F)C(C)N1CCOCC1CC(C)C)c1ccncc1F)C(C)C#N)C1CC1C1CC1)C1CC1C(=O)'\n",
            "[19:16:55] SMILES Parse Error: extra close parentheses while parsing: Cc1cccc(-c2ccc(CO)c(C)n2)c1OC1CCCC1O)C1CC1C(N)=O)C(N)=O)c1ccccc1Cl)C1CC1C1CC1)C1CC1C1CC1)C1CC1COC1CC1\n",
            "[19:16:55] SMILES Parse Error: Failed parsing SMILES 'Cc1cccc(-c2ccc(CO)c(C)n2)c1OC1CCCC1O)C1CC1C(N)=O)C(N)=O)c1ccccc1Cl)C1CC1C1CC1)C1CC1C1CC1)C1CC1COC1CC1' for input: 'Cc1cccc(-c2ccc(CO)c(C)n2)c1OC1CCCC1O)C1CC1C(N)=O)C(N)=O)c1ccccc1Cl)C1CC1C1CC1)C1CC1C1CC1)C1CC1COC1CC1'\n",
            "[19:16:55] SMILES Parse Error: extra close parentheses while parsing: CN1C(=O)C2CC(NC(=O)N3CCc4ccccc4C3)C12C1CCCCC13C2OCOCO1)c1ccco1)C1CC1C1CC1)c1ccccc1F)C1CC1(C)C)C(C)(C)\n",
            "[19:16:55] SMILES Parse Error: Failed parsing SMILES 'CN1C(=O)C2CC(NC(=O)N3CCc4ccccc4C3)C12C1CCCCC13C2OCOCO1)c1ccco1)C1CC1C1CC1)c1ccccc1F)C1CC1(C)C)C(C)(C)' for input: 'CN1C(=O)C2CC(NC(=O)N3CCc4ccccc4C3)C12C1CCCCC13C2OCOCO1)c1ccco1)C1CC1C1CC1)c1ccccc1F)C1CC1(C)C)C(C)(C)'\n",
            "[19:16:55] SMILES Parse Error: extra close parentheses while parsing: Cc1nc(-n2cnc3ccccc3c2=O)sc1C(=O)OC(C)C(N)=O)c1CC#N)C1CC1Cl)C1CCCCC1)C1CC1)C(C)C1CC1C(C)C)C(=O)N1CCCC1\n",
            "[19:16:55] SMILES Parse Error: Failed parsing SMILES 'Cc1nc(-n2cnc3ccccc3c2=O)sc1C(=O)OC(C)C(N)=O)c1CC#N)C1CC1Cl)C1CCCCC1)C1CC1)C(C)C1CC1C(C)C)C(=O)N1CCCC1' for input: 'Cc1nc(-n2cnc3ccccc3c2=O)sc1C(=O)OC(C)C(N)=O)c1CC#N)C1CC1Cl)C1CCCCC1)C1CC1)C(C)C1CC1C(C)C)C(=O)N1CCCC1'\n",
            "[19:16:55] SMILES Parse Error: extra close parentheses while parsing: COc1ccc(Oc2ccc3c(=O)[nH]c(C)nc3n2)c(OC)c1Cl)c1cccc(O)c1CC1CC1)C1CC1C1CC1)C1(C)CC1(C)COC1=O)c1noc(C)n1\n",
            "[19:16:55] SMILES Parse Error: Failed parsing SMILES 'COc1ccc(Oc2ccc3c(=O)[nH]c(C)nc3n2)c(OC)c1Cl)c1cccc(O)c1CC1CC1)C1CC1C1CC1)C1(C)CC1(C)COC1=O)c1noc(C)n1' for input: 'COc1ccc(Oc2ccc3c(=O)[nH]c(C)nc3n2)c(OC)c1Cl)c1cccc(O)c1CC1CC1)C1CC1C1CC1)C1(C)CC1(C)COC1=O)c1noc(C)n1'\n"
          ]
        }
      ]
    },
    {
      "cell_type": "code",
      "source": [
        "torch.save(model.state_dict(), \"rnn_smiles_model.pt\")"
      ],
      "metadata": {
        "id": "k7OZkfVP1e3x"
      },
      "execution_count": null,
      "outputs": []
    },
    {
      "cell_type": "code",
      "source": [
        "import torch\n",
        "import torch.nn as nn\n",
        "import torch.optim as optim\n",
        "from torch.utils.data import Dataset, DataLoader\n",
        "from tqdm import tqdm\n",
        "import numpy as np\n",
        "import pandas as pd\n",
        "from rdkit import Chem, RDLogger\n",
        "RDLogger.DisableLog('rdApp.*')  # Suppress RDKit warnings\n",
        "\n",
        "# Function to add start and end tokens\n",
        "def process_smiles(smiles_list):\n",
        "    return [\"^\" + s + \"$\" for s in smiles_list]\n",
        "\n",
        "# Create character dictionaries including special tokens\n",
        "def create_vocab(smiles_list):\n",
        "    all_chars = sorted(list(set(''.join(smiles_list))))\n",
        "    char2idx = {ch: i + 1 for i, ch in enumerate(all_chars)}\n",
        "    char2idx['<PAD>'] = 0  # Padding token\n",
        "    idx2char = {i: ch for ch, i in char2idx.items()}\n",
        "    return char2idx, idx2char, len(char2idx)\n",
        "\n",
        "# Enhanced tokenization\n",
        "def tokenize(smiles, char2idx):\n",
        "    return [char2idx.get(c, 0) for c in smiles]  # Default to 0 if unknown\n",
        "\n",
        "def detokenize(tokens, idx2char):\n",
        "    return ''.join([idx2char.get(t, '') for t in tokens if t != 0])\n",
        "\n",
        "# Improved dataset class\n",
        "class SMILESDataset(Dataset):\n",
        "    def __init__(self, smiles_list, char2idx, seq_len=120):\n",
        "        self.smiles_list = smiles_list\n",
        "        self.char2idx = char2idx\n",
        "        self.seq_len = seq_len\n",
        "\n",
        "    def __len__(self):\n",
        "        return len(self.smiles_list)\n",
        "\n",
        "    def __getitem__(self, idx):\n",
        "        smiles = self.smiles_list[idx]\n",
        "        if len(smiles) > self.seq_len:\n",
        "            smiles = smiles[:self.seq_len]\n",
        "\n",
        "        tokens = tokenize(smiles, self.char2idx)\n",
        "        x = torch.tensor(tokens[:-1], dtype=torch.long)\n",
        "        y = torch.tensor(tokens[1:], dtype=torch.long)\n",
        "\n",
        "        # Padding\n",
        "        pad_len = self.seq_len - 1 - len(x)\n",
        "        if pad_len > 0:\n",
        "            x = torch.cat([x, torch.zeros(pad_len, dtype=torch.long)])\n",
        "            y = torch.cat([y, torch.zeros(pad_len, dtype=torch.long)])\n",
        "\n",
        "        return x, y\n",
        "\n",
        "# Enhanced RNN model\n",
        "class RNNGenerator(nn.Module):\n",
        "    def __init__(self, vocab_size, embedding_dim=256, hidden_dim=512, num_layers=3, dropout=0.2):\n",
        "        super().__init__()\n",
        "        self.embedding = nn.Embedding(vocab_size, embedding_dim, padding_idx=0)\n",
        "        self.rnn = nn.LSTM(\n",
        "            embedding_dim,\n",
        "            hidden_dim,\n",
        "            num_layers,\n",
        "            batch_first=True,\n",
        "            dropout=dropout\n",
        "        )\n",
        "        self.fc = nn.Linear(hidden_dim, vocab_size)\n",
        "        self.dropout = nn.Dropout(dropout)\n",
        "        self.hidden_dim = hidden_dim\n",
        "        self.num_layers = num_layers\n",
        "\n",
        "    def forward(self, x, hidden=None):\n",
        "        batch_size = x.size(0)\n",
        "        emb = self.dropout(self.embedding(x))\n",
        "\n",
        "        if hidden is None:\n",
        "            # Initialize hidden states\n",
        "            h0 = torch.zeros(self.num_layers, batch_size, self.hidden_dim).to(x.device)\n",
        "            c0 = torch.zeros(self.num_layers, batch_size, self.hidden_dim).to(x.device)\n",
        "            hidden = (h0, c0)\n",
        "\n",
        "        out, hidden = self.rnn(emb, hidden)\n",
        "        out = self.dropout(out)\n",
        "        logits = self.fc(out)\n",
        "        return logits, hidden\n",
        "\n",
        "    def init_hidden(self, batch_size, device):\n",
        "        h0 = torch.zeros(self.num_layers, batch_size, self.hidden_dim).to(device)\n",
        "        c0 = torch.zeros(self.num_layers, batch_size, self.hidden_dim).to(device)\n",
        "        return (h0, c0)\n",
        "\n",
        "# Sample a new molecule\n",
        "def generate_molecule(model, char2idx, idx2char, device, max_len=100, temperature=0.8):\n",
        "    model.eval()\n",
        "    with torch.no_grad():\n",
        "        # Start with the start token\n",
        "        start_token = char2idx['^']\n",
        "        current = torch.tensor([[start_token]], dtype=torch.long).to(device)\n",
        "        hidden = None\n",
        "        result = [start_token]\n",
        "\n",
        "        for _ in range(max_len):\n",
        "            output, hidden = model(current, hidden)\n",
        "            output = output[:, -1, :] / temperature\n",
        "            probs = torch.softmax(output, dim=-1)\n",
        "\n",
        "            # Sample from the probability distribution\n",
        "            next_token = torch.multinomial(probs, 1).item()\n",
        "            result.append(next_token)\n",
        "            current = torch.tensor([[next_token]], dtype=torch.long).to(device)\n",
        "\n",
        "            # Stop if end token is generated\n",
        "            if idx2char[next_token] == '$':\n",
        "                break\n",
        "\n",
        "        generated = detokenize(result, idx2char)\n",
        "        # Remove start/end tokens for validation\n",
        "        clean_smiles = generated.replace('^', '').replace('$', '')\n",
        "        return clean_smiles, is_valid_smiles(clean_smiles)\n",
        "\n",
        "# Validate SMILES with RDKit\n",
        "def is_valid_smiles(smiles):\n",
        "    mol = Chem.MolFromSmiles(smiles)\n",
        "    return mol is not None\n",
        "\n",
        "# Training with teacher forcing and validation\n",
        "def train_model(model, dataloader, optimizer, criterion, device, epochs,\n",
        "                char2idx, idx2char, save_path='smiles_rnn_model.pth'):\n",
        "    best_loss = float('inf')\n",
        "\n",
        "    for epoch in range(epochs):\n",
        "        model.train()\n",
        "        epoch_loss = 0\n",
        "\n",
        "        for x, y in tqdm(dataloader, desc=f\"Epoch {epoch+1}/{epochs}\"):\n",
        "            x, y = x.to(device), y.to(device)\n",
        "            optimizer.zero_grad()\n",
        "\n",
        "            logits, _ = model(x)\n",
        "            loss = criterion(logits.view(-1, len(char2idx)), y.view(-1))\n",
        "\n",
        "            loss.backward()\n",
        "            torch.nn.utils.clip_grad_norm_(model.parameters(), 5.0)  # Gradient clipping\n",
        "            optimizer.step()\n",
        "\n",
        "            epoch_loss += loss.item()\n",
        "\n",
        "        avg_loss = epoch_loss / len(dataloader)\n",
        "        print(f\"Epoch {epoch+1} loss: {avg_loss:.4f}\")\n",
        "\n",
        "        # Generate and validate some molecules\n",
        "        if (epoch + 1) % 5 == 0 or epoch == epochs - 1:\n",
        "            valid_count = 0\n",
        "            n_samples = 10\n",
        "            print(\"\\nGenerating sample molecules:\")\n",
        "            for _ in range(n_samples):\n",
        "                mol, valid = generate_molecule(model, char2idx, idx2char, device)\n",
        "                validity = \"✓\" if valid else \"✗\"\n",
        "                print(f\"{mol} {validity}\")\n",
        "                if valid:\n",
        "                    valid_count += 1\n",
        "            print(f\"Validity: {valid_count}/{n_samples} ({valid_count/n_samples*100:.1f}%)\")\n",
        "\n",
        "        # Save best model\n",
        "        if avg_loss < best_loss:\n",
        "            best_loss = avg_loss\n",
        "            torch.save(model.state_dict(), save_path)\n",
        "            print(f\"Model saved to {save_path}\")\n",
        "\n",
        "# Main training pipeline\n",
        "def run_training(dataframe, smiles_column='SMILES', batch_size=128, epochs=20):\n",
        "    # Get SMILES strings from DataFrame\n",
        "    smiles_list = dataframe[smiles_column].tolist()\n",
        "\n",
        "    # Process data\n",
        "    processed_smiles = process_smiles(smiles_list)\n",
        "    char2idx, idx2char, vocab_size = create_vocab(processed_smiles)\n",
        "\n",
        "    # Create dataset and data loader\n",
        "    dataset = SMILESDataset(processed_smiles, char2idx, seq_len=120)\n",
        "    loader = DataLoader(dataset, batch_size=batch_size, shuffle=True)\n",
        "\n",
        "    # Setup model\n",
        "    device = torch.device('cuda' if torch.cuda.is_available() else 'cpu')\n",
        "    model = RNNGenerator(vocab_size).to(device)\n",
        "    optimizer = optim.Adam(model.parameters(), lr=0.001)\n",
        "    criterion = nn.CrossEntropyLoss(ignore_index=0)\n",
        "\n",
        "    # Train\n",
        "    train_model(model, loader, optimizer, criterion, device, epochs=epochs,\n",
        "                char2idx=char2idx, idx2char=idx2char)\n",
        "\n",
        "    return model, char2idx, idx2char\n",
        "\n",
        "# Generate a batch of molecules\n",
        "def generate_molecules(model, char2idx, idx2char, device, n=25, temperature=0.8):\n",
        "    valid_mols = []\n",
        "    attempts = 0\n",
        "    max_attempts = n * 5  # Try up to 5x the requested number\n",
        "\n",
        "    while len(valid_mols) < n and attempts < max_attempts:\n",
        "        smiles, valid = generate_molecule(model, char2idx, idx2char, device, temperature=temperature)\n",
        "        attempts += 1\n",
        "        if valid:\n",
        "            # Check for duplicates\n",
        "            if smiles not in valid_mols:\n",
        "                valid_mols.append(smiles)\n",
        "\n",
        "    return valid_mols, len(valid_mols)/attempts if attempts > 0 else 0"
      ],
      "metadata": {
        "id": "1ydRfMAmLxU5"
      },
      "execution_count": 6,
      "outputs": []
    },
    {
      "cell_type": "code",
      "source": [
        "# Main execution script\n",
        "if __name__ == \"__main__\":\n",
        "    # Load data\n",
        "    df = pd.read_csv('moses/data/train.csv')\n",
        "    print(\"Dataset information:\")\n",
        "    print(df.head())\n",
        "    print(f\"Dataset shape: {df.shape}\")\n",
        "\n",
        "    # Check if 'SMILES' column exists, adjust if needed\n",
        "    smiles_column = 'SMILES'\n",
        "    if smiles_column not in df.columns:\n",
        "        # Try to find a column that might contain SMILES strings\n",
        "        for col in df.columns:\n",
        "            if any(c in '()[]=' for c in df[col].iloc[0]):\n",
        "                smiles_column = col\n",
        "                print(f\"Using column '{smiles_column}' for SMILES data\")\n",
        "                break\n",
        "\n",
        "    # Train the model\n",
        "    print(f\"\\nTraining model on {df.shape[0]} SMILES strings...\")\n",
        "    model, char2idx, idx2char = run_training(df, smiles_column=smiles_column)\n",
        "\n",
        "    # Generate and evaluate new molecules\n",
        "    device = torch.device('cuda' if torch.cuda.is_available() else 'cpu')\n",
        "    print(\"\\nGenerating new molecules...\")\n",
        "    molecules, validity_rate = generate_molecules(model, char2idx, idx2char, device, n=20)\n",
        "\n",
        "    print(f\"\\nGenerated {len(molecules)} valid molecules with {validity_rate*100:.1f}% validity rate\")\n",
        "    print(\"\\nSample valid molecules:\")\n",
        "    for i, mol in enumerate(molecules[:10], 1):\n",
        "        print(f\"{i}. {mol}\")\n",
        "\n",
        "    # Optional: Save to CSV\n",
        "    if molecules:\n",
        "        output_df = pd.DataFrame({'generated_smiles': molecules})\n",
        "        output_path = 'generated_molecules.csv'\n",
        "        output_df.to_csv(output_path, index=False)\n",
        "        print(f\"\\nSaved generated molecules to {output_path}\")"
      ],
      "metadata": {
        "colab": {
          "base_uri": "https://localhost:8080/"
        },
        "id": "cTEoc-mgMH55",
        "outputId": "afff23d7-309d-4716-d427-b067c755b806"
      },
      "execution_count": 7,
      "outputs": [
        {
          "output_type": "stream",
          "name": "stdout",
          "text": [
            "Dataset information:\n",
            "                                   SMILES  SPLIT\n",
            "0  CCCS(=O)c1ccc2[nH]c(=NC(=O)OC)[nH]c2c1  train\n",
            "1    CC(C)(C)C(=O)C(Oc1ccc(Cl)cc1)n1ccnc1  train\n",
            "2     Cc1c(Cl)cccc1Nc1ncccc1C(=O)OCC(O)CO  train\n",
            "3        Cn1cnc2c1c(=O)n(CC(O)CO)c(=O)n2C  train\n",
            "4          CC1Oc2ccc(Cl)cc2N(CC(O)CO)C1=O  train\n",
            "Dataset shape: (1584663, 2)\n",
            "\n",
            "Training model on 1584663 SMILES strings...\n"
          ]
        },
        {
          "output_type": "stream",
          "name": "stderr",
          "text": [
            "Epoch 1/20: 100%|██████████| 12381/12381 [04:33<00:00, 45.23it/s]\n"
          ]
        },
        {
          "output_type": "stream",
          "name": "stdout",
          "text": [
            "Epoch 1 loss: 0.5848\n",
            "Model saved to smiles_rnn_model.pth\n"
          ]
        },
        {
          "output_type": "stream",
          "name": "stderr",
          "text": [
            "Epoch 2/20: 100%|██████████| 12381/12381 [04:32<00:00, 45.45it/s]\n"
          ]
        },
        {
          "output_type": "stream",
          "name": "stdout",
          "text": [
            "Epoch 2 loss: 0.5235\n",
            "Model saved to smiles_rnn_model.pth\n"
          ]
        },
        {
          "output_type": "stream",
          "name": "stderr",
          "text": [
            "Epoch 3/20: 100%|██████████| 12381/12381 [04:32<00:00, 45.41it/s]\n"
          ]
        },
        {
          "output_type": "stream",
          "name": "stdout",
          "text": [
            "Epoch 3 loss: 0.5146\n",
            "Model saved to smiles_rnn_model.pth\n"
          ]
        },
        {
          "output_type": "stream",
          "name": "stderr",
          "text": [
            "Epoch 4/20: 100%|██████████| 12381/12381 [04:31<00:00, 45.53it/s]\n"
          ]
        },
        {
          "output_type": "stream",
          "name": "stdout",
          "text": [
            "Epoch 4 loss: 0.5106\n",
            "Model saved to smiles_rnn_model.pth\n"
          ]
        },
        {
          "output_type": "stream",
          "name": "stderr",
          "text": [
            "Epoch 5/20: 100%|██████████| 12381/12381 [04:32<00:00, 45.46it/s]\n"
          ]
        },
        {
          "output_type": "stream",
          "name": "stdout",
          "text": [
            "Epoch 5 loss: 0.5087\n",
            "\n",
            "Generating sample molecules:\n",
            "COCCCn1ccc(NC(=O)N2Cc3cncnc3C2)n1 ✓\n",
            "Cc1ccc(NC(=O)NCc2cn[nH]c2)cc1Cl ✓\n",
            "Cc1cc(NC(=O)C(C)Sc2ncnc3ccccc23)n(C)n1 ✓\n",
            "Cc1cc(F)ccc1NC(=O)CNS(=O)(=O)c1ccccc1Cl ✓\n",
            "CCOCC1CCCN(C(=O)c2ccc(NC(=O)C(C)C)cc2)C1 ✓\n",
            "O=C(Nc1nccs1)c1ccc(OC2CCC2)cc1 ✓\n",
            "CCc1ncc(CN(C)C(=O)c2cc(Cl)ccn2)s1 ✓\n",
            "Cc1ccc(C)c(C(C)NC(=O)C2CCC(=O)N(C)C2)c1 ✓\n",
            "Cc1cc(C)cc(CCNC(=O)c2ccc(Cn3cncn3)cc2)c1 ✓\n",
            "O=C(Nc1cccc(Cl)c1F)c1ccc(N2CCOC2=O)cc1 ✓\n",
            "Validity: 10/10 (100.0%)\n",
            "Model saved to smiles_rnn_model.pth\n"
          ]
        },
        {
          "output_type": "stream",
          "name": "stderr",
          "text": [
            "Epoch 6/20: 100%|██████████| 12381/12381 [04:31<00:00, 45.53it/s]\n"
          ]
        },
        {
          "output_type": "stream",
          "name": "stdout",
          "text": [
            "Epoch 6 loss: 0.5076\n",
            "Model saved to smiles_rnn_model.pth\n"
          ]
        },
        {
          "output_type": "stream",
          "name": "stderr",
          "text": [
            "Epoch 7/20: 100%|██████████| 12381/12381 [04:31<00:00, 45.65it/s]\n"
          ]
        },
        {
          "output_type": "stream",
          "name": "stdout",
          "text": [
            "Epoch 7 loss: 0.5072\n",
            "Model saved to smiles_rnn_model.pth\n"
          ]
        },
        {
          "output_type": "stream",
          "name": "stderr",
          "text": [
            "Epoch 8/20: 100%|██████████| 12381/12381 [04:31<00:00, 45.57it/s]\n"
          ]
        },
        {
          "output_type": "stream",
          "name": "stdout",
          "text": [
            "Epoch 8 loss: 0.5073\n"
          ]
        },
        {
          "output_type": "stream",
          "name": "stderr",
          "text": [
            "Epoch 9/20: 100%|██████████| 12381/12381 [04:31<00:00, 45.62it/s]\n"
          ]
        },
        {
          "output_type": "stream",
          "name": "stdout",
          "text": [
            "Epoch 9 loss: 0.5075\n"
          ]
        },
        {
          "output_type": "stream",
          "name": "stderr",
          "text": [
            "Epoch 10/20: 100%|██████████| 12381/12381 [04:32<00:00, 45.48it/s]\n"
          ]
        },
        {
          "output_type": "stream",
          "name": "stdout",
          "text": [
            "Epoch 10 loss: 0.5079\n",
            "\n",
            "Generating sample molecules:\n",
            "COCCNC(=O)NC(C)c1ccc(Br)cc1 ✓\n",
            "c1cc(CN2CCOC3C(OCc4ccncc4)CCC32)ccn1 ✓\n",
            "Cc1cccc2sc(NC(=O)COCc3nc(C)no3)nc12 ✓\n",
            "CCc1nc2n(n1)CCCC2NC(=O)Cc1cc(C)ccc1C ✓\n",
            "CCC1CCCCN1C(=O)c1cccc(N)c1C ✓\n",
            "O=C(CN1CCN(c2ccccc2F)CC1)NCc1ccccc1F ✓\n",
            "CCOC(=O)C1(NC(=O)c2ccc(-n3ccnn3)cc2)CCCC1 ✓\n",
            "CC(=O)NCCNC(=O)N(C)Cc1ccccc1 ✓\n",
            "O=C(NCc1ccccc1)c1cc2ccccc2c(=O)[nH]1 ✓\n",
            "O=C(NCc1nc2ncccn2n1)Nc1ccccc1N1CCCC1=O ✓\n",
            "Validity: 10/10 (100.0%)\n"
          ]
        },
        {
          "output_type": "stream",
          "name": "stderr",
          "text": [
            "Epoch 11/20: 100%|██████████| 12381/12381 [04:30<00:00, 45.72it/s]\n"
          ]
        },
        {
          "output_type": "stream",
          "name": "stdout",
          "text": [
            "Epoch 11 loss: 0.5086\n"
          ]
        },
        {
          "output_type": "stream",
          "name": "stderr",
          "text": [
            "Epoch 12/20: 100%|██████████| 12381/12381 [04:31<00:00, 45.64it/s]\n"
          ]
        },
        {
          "output_type": "stream",
          "name": "stdout",
          "text": [
            "Epoch 12 loss: 0.5093\n"
          ]
        },
        {
          "output_type": "stream",
          "name": "stderr",
          "text": [
            "Epoch 13/20: 100%|██████████| 12381/12381 [04:31<00:00, 45.57it/s]\n"
          ]
        },
        {
          "output_type": "stream",
          "name": "stdout",
          "text": [
            "Epoch 13 loss: 0.5102\n"
          ]
        },
        {
          "output_type": "stream",
          "name": "stderr",
          "text": [
            "Epoch 14/20: 100%|██████████| 12381/12381 [04:31<00:00, 45.63it/s]\n"
          ]
        },
        {
          "output_type": "stream",
          "name": "stdout",
          "text": [
            "Epoch 14 loss: 0.5113\n"
          ]
        },
        {
          "output_type": "stream",
          "name": "stderr",
          "text": [
            "Epoch 15/20: 100%|██████████| 12381/12381 [04:30<00:00, 45.69it/s]\n"
          ]
        },
        {
          "output_type": "stream",
          "name": "stdout",
          "text": [
            "Epoch 15 loss: 0.5123\n",
            "\n",
            "Generating sample molecules:\n",
            "COC(=O)c1cc(Cl)ccc1NC(=O)NCCC1=CCCCC1 ✓\n",
            "Cc1nc(COc2ccc3c(c2)C(C)(C)C(=O)N3C)cs1 ✓\n",
            "COC(=O)c1cccc(S(=O)(=O)NCc2ccc(F)cc2)c1 ✓\n",
            "O=C(CC1=CCCCC1)N1CCc2nc(NC(=O)C3CC3)sc2C1 ✓\n",
            "CCOc1ccc(C(=O)Nc2nnc(C3CCCCC3)o2)cc1 ✓\n",
            "CCCCN(CCO)C(=O)NCC(C)Cn1nc(C)c(Cl)c1C ✓\n",
            "Cc1ccc(C)c(-n2ccnc2SCC(=O)Nc2ccccc2C#N)c1 ✓\n",
            "CC(=O)Nc1ccc2c(c1)N(CC(=O)c1ccccc1)C(=O)CO2 ✓\n",
            "COc1ccc(C(=O)CCc2nc(C)cs2)cc1C ✓\n",
            "CN(C)S(=O)(=O)c1ccc(C(=O)NCCCn2cccn2)o1 ✓\n",
            "Validity: 10/10 (100.0%)\n"
          ]
        },
        {
          "output_type": "stream",
          "name": "stderr",
          "text": [
            "Epoch 16/20: 100%|██████████| 12381/12381 [04:32<00:00, 45.51it/s]\n"
          ]
        },
        {
          "output_type": "stream",
          "name": "stdout",
          "text": [
            "Epoch 16 loss: 0.5136\n"
          ]
        },
        {
          "output_type": "stream",
          "name": "stderr",
          "text": [
            "Epoch 17/20: 100%|██████████| 12381/12381 [04:31<00:00, 45.58it/s]\n"
          ]
        },
        {
          "output_type": "stream",
          "name": "stdout",
          "text": [
            "Epoch 17 loss: 0.5150\n"
          ]
        },
        {
          "output_type": "stream",
          "name": "stderr",
          "text": [
            "Epoch 18/20: 100%|██████████| 12381/12381 [04:32<00:00, 45.51it/s]\n"
          ]
        },
        {
          "output_type": "stream",
          "name": "stdout",
          "text": [
            "Epoch 18 loss: 0.5165\n"
          ]
        },
        {
          "output_type": "stream",
          "name": "stderr",
          "text": [
            "Epoch 19/20: 100%|██████████| 12381/12381 [04:31<00:00, 45.60it/s]\n"
          ]
        },
        {
          "output_type": "stream",
          "name": "stdout",
          "text": [
            "Epoch 19 loss: 0.5185\n"
          ]
        },
        {
          "output_type": "stream",
          "name": "stderr",
          "text": [
            "Epoch 20/20: 100%|██████████| 12381/12381 [04:31<00:00, 45.63it/s]\n"
          ]
        },
        {
          "output_type": "stream",
          "name": "stdout",
          "text": [
            "Epoch 20 loss: 0.5203\n",
            "\n",
            "Generating sample molecules:\n",
            "COC(=O)C(C)(NC(=O)NC(C)c1cc(C)sc1C)C1CC1 ✓\n",
            "Cc1cccc(C(=O)N(C)C(C#N)c2ccccc2C)c1 ✓\n",
            "COC(=O)c1ccc(F)c(NC(=O)COc2ccccc2)c1 ✓\n",
            "COc1ccc(C)cc1NCC(=O)N1CCN(C(C)=O)CC1 ✓\n",
            "Cc1ccc(CCC(=O)Nc2ccc(C(N)=O)nc2)c(C)c1 ✓\n",
            "CNC(=O)C1CCCN(C(=O)CCc2c(C)nc3c(C)cccn23)C1 ✓\n",
            "Cc1ccc(CC(=O)NCC(C)(O)c2ccccc2F)cn1 ✓\n",
            "COCCN(C)C(=O)Nc1ccc(-n2ccnc2)cc1 ✓\n",
            "Cc1cccc(Cl)c1NC(=O)NCCCn1cccn1 ✓\n",
            "CC(C)(C)C(=O)N1CCC(C(=O)NCCCc2ccccc2)CC1 ✓\n",
            "Validity: 10/10 (100.0%)\n",
            "\n",
            "Generating new molecules...\n",
            "\n",
            "Generated 20 valid molecules with 100.0% validity rate\n",
            "\n",
            "Sample valid molecules:\n",
            "1. CCCC1CN(C(=O)COc2ccc(-n3cnnn3)cc2)CCO1\n",
            "2. O=C(NCc1ccccc1F)C12CCC(=O)N1CCCC2\n",
            "3. Cn1ccnc1C(=O)NCc1ccc(Cn2cncn2)cc1\n",
            "4. Cc1cc(Cl)ccc1OC(=O)c1ccc(S(=O)(=O)NC(C)C)cc1\n",
            "5. COCCNC(=O)NCC1(c2ccc(Br)cc2)CC1\n",
            "6. Cn1cc(CNC(=O)NCCCN2CCOCC2)cn1\n",
            "7. O=C(NCCC(O)c1ccccc1)c1cccc(Cl)c1\n",
            "8. CCOC(=O)c1[nH]c2ccc(F)cc2c1NC(=O)C(C)C\n",
            "9. CC(C)c1nnsc1C(=O)Nc1cccc2c1CCCC2\n",
            "10. Brc1ccc2nc(-c3ccccn3)cn2c1\n",
            "\n",
            "Saved generated molecules to generated_molecules.csv\n"
          ]
        }
      ]
    }
  ]
}